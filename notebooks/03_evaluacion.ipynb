{
 "cells": [
  {
   "cell_type": "markdown",
   "metadata": {},
   "source": [
    "Cuaderno de evaluación"
   ]
  },
  {
   "cell_type": "code",
   "execution_count": null,
   "metadata": {},
   "outputs": [
    {
     "name": "stdout",
     "output_type": "stream",
     "text": [
      "hola mundo\n"
     ]
    }
   ],
   "source": [
    "import pandas as pd\n",
    "import numpy as np\n",
    "from scipy import stats\n",
    "\n",
    "# Crear una copia del DataFrame original\n",
    "df_transformed = df_proc.copy()\n",
    "\n",
    "# Aplicar transformación Box-Cox a 'Rent'\n",
    "df_transformed['Rent_boxcox'], rent_lambda = stats.boxcox(df_transformed['Rent'])\n",
    "print(f\"Lambda para Rent: {rent_lambda:.4f}\")\n",
    "\n",
    "# Aplicar transformación Box-Cox a 'Size'\n",
    "df_transformed['Size_boxcox'], size_lambda = stats.boxcox(df_transformed['Size'])\n",
    "print(f\"Lambda para Size: {size_lambda:.4f}\")\n",
    "\n",
    "# También podemos añadir transformaciones logarítmicas para comparar\n",
    "#df_transformed['Rent_log'] = np.log1p(df_transformed['Rent'])\n",
    "#df_transformed['Size_log'] = np.log1p(df_transformed['Size'])\n",
    "\n",
    "# Eliminar columnas que no aportan información\n",
    "columns_to_drop = ['Posted On', 'Area Locality', 'Floor', 'Rent', 'Size']\n",
    "df_transformed = df_transformed.drop(columns=columns_to_drop)\n",
    "\n",
    "# Mostrar las primeras filas para verificar\n",
    "print(\"\\nPrimeras filas del DataFrame transformado:\")\n",
    "print(df_transformed.head())\n",
    "\n",
    "# Dividir características y target con las variables transformadas\n",
    "X = df_transformed.drop('Rent_boxcox', axis=1)  # Usaremos Box-Cox como target\n",
    "y = df_transformed['Rent_boxcox']\n",
    "\n",
    "# Identificar tipos de columnas\n",
    "cat_cols = X.select_dtypes(include=['object', 'category']).columns.tolist()\n",
    "num_cols = X.select_dtypes(include=['int64', 'float64']).columns.tolist()\n",
    "\n",
    "print(f\"\\nColumnas categóricas: {len(cat_cols)}\")\n",
    "print(cat_cols)\n",
    "print(f\"\\nColumnas numéricas: {len(num_cols)}\")\n",
    "print(num_cols)\n",
    "\n",
    "# División train/val/test\n",
    "from sklearn.model_selection import train_test_split\n",
    "from sklearn.preprocessing import StandardScaler, OneHotEncoder\n",
    "from sklearn.compose import ColumnTransformer\n",
    "\n",
    "X_train_val, X_test, y_train_val, y_test = train_test_split(\n",
    "    X, y, test_size=0.2, random_state=42\n",
    ")\n",
    "\n",
    "X_train, X_val, y_train, y_val = train_test_split(\n",
    "    X_train_val, y_train_val, test_size=0.25, random_state=42\n",
    ")\n",
    "\n",
    "# Recrear el preprocesador con las columnas actualizadas\n",
    "preprocessor = ColumnTransformer(\n",
    "    transformers=[\n",
    "        ('num', StandardScaler(), num_cols),\n",
    "        ('cat', OneHotEncoder(handle_unknown='ignore'), cat_cols)\n",
    "    ]\n",
    ")\n",
    "\n",
    "# Aplicar preprocesamiento\n",
    "preprocessor.fit(X_train)\n",
    "X_train_prep = preprocessor.transform(X_train)\n",
    "X_val_prep = preprocessor.transform(X_val)\n",
    "X_test_prep = preprocessor.transform(X_test)"
   ]
  },
  {
   "cell_type": "markdown",
   "metadata": {},
   "source": []
  }
 ],
 "metadata": {
  "kernelspec": {
   "display_name": "Python 3",
   "language": "python",
   "name": "python3"
  },
  "language_info": {
   "codemirror_mode": {
    "name": "ipython",
    "version": 3
   },
   "file_extension": ".py",
   "mimetype": "text/x-python",
   "name": "python",
   "nbconvert_exporter": "python",
   "pygments_lexer": "ipython3",
   "version": "3.12.6"
  }
 },
 "nbformat": 4,
 "nbformat_minor": 2
}
