{
  "cells": [
    {
      "cell_type": "markdown",
      "metadata": {
        "colab_type": "text",
        "id": "view-in-github"
      },
      "source": [
        "<a href=\"https://colab.research.google.com/github/jeremiaspabon/taller1_DL/blob/main/01_exploracion_v2.ipynb\" target=\"_parent\"><img src=\"https://colab.research.google.com/assets/colab-badge.svg\" alt=\"Open In Colab\"/></a>"
      ]
    },
    {
      "cell_type": "markdown",
      "metadata": {
        "id": "r9Szgck8Kv3b"
      },
      "source": [
        "![Universidad Central](https://www.ucentral.edu.co/sites/default/files/inline-images/identificadores-Centrados_en_ti_logo-h.png)\n",
        "\n",
        "----"
      ]
    },
    {
      "cell_type": "markdown",
      "metadata": {
        "id": "Ok0hoHXZKw2l"
      },
      "source": [
        "# __Deep Learning__ <br><br>\n",
        "\n",
        "### **Integrantes Grupo :**\n",
        "Gerson Julían Rincón [grinconp2@ucentral.edu.co](grinconp2@ucentral.edu.co)<br>\n",
        "Jeremías Pabón [jpabonl@ucentral.edu.co](jpabonl@ucentral.edu.co)<br>\n",
        "Andrés Bravo [abravop@ucentral.edu.co](abravop@ucentral.edu.co)<br>\n",
        "Carolina Tobaría [ctobariac@ucentral.edu.co](ctobariac@ucentral.edu.co)<br>\n",
        "\n",
        "### **Profesor:**\n",
        "William David Prada Buitrago [wpradab@ucentral.edu.co]<br>\n",
        "Facultad de Ingeniería y Ciencias Básicas <br>\n",
        "Maestría en Analitica de Datos <br>\n",
        "### **Universidad Central**\n"
      ]
    },
    {
      "cell_type": "code",
      "execution_count": 121,
      "metadata": {
        "id": "TwfwwjBgsaev"
      },
      "outputs": [
        {
          "name": "stdout",
          "output_type": "stream",
          "text": [
            "Archivo seleccionado: C:/Users/USER/Downloads/House_Rent_Dataset.csv\n"
          ]
        }
      ],
      "source": [
        "import sys\n",
        "import os\n",
        "import pandas as pd\n",
        "\n",
        "file_path = \"C:/Users/USER/Downloads/House_Rent_Dataset.csv\"\n",
        "\n",
        "if not file_path:\n",
        "    print(\"No se seleccionó ningún archivo. Saliendo...\")\n",
        "\n",
        "print(f\"Archivo seleccionado: {file_path}\")\n",
        "\n",
        "    # Cargar el archivo\n",
        "if file_path.endswith('.csv'):\n",
        "    df = pd.read_csv(file_path)\n",
        "elif file_path.endswith('.xlsx'):\n",
        "    df = pd.read_excel(file_path)\n",
        "else:\n",
        "    raise ValueError(\"Formato de archivo no soportado. Usa .csv o .xlsx\")"
      ]
    },
    {
      "cell_type": "markdown",
      "metadata": {
        "id": "kFcdnWYxGjC0"
      },
      "source": []
    },
    {
      "cell_type": "markdown",
      "metadata": {
        "id": "u09fbGf_PS0L"
      },
      "source": [
        "> LIBRERIAS\n",
        "\n",
        "\n",
        "Las librerias a utilizar son las siguientes:"
      ]
    },
    {
      "cell_type": "code",
      "execution_count": 122,
      "metadata": {
        "id": "LaDZv0rYPPYe"
      },
      "outputs": [],
      "source": [
        "# Tratamiento de datos\n",
        "# ==============================================================================\n",
        "import numpy as np\n",
        "import pandas as pd\n",
        "from tabulate import tabulate\n",
        "\n",
        "# Gráficos\n",
        "# ==============================================================================\n",
        "import matplotlib.pyplot as plt\n",
        "from matplotlib import style\n",
        "import matplotlib.ticker as ticker\n",
        "import seaborn as sns\n",
        "import statsmodels.api as sm\n",
        "# Configuración warnings\n",
        "# ==============================================================================\n",
        "import warnings\n",
        "warnings.filterwarnings('ignore')"
      ]
    },
    {
      "cell_type": "markdown",
      "metadata": {
        "id": "eLPluB9CK3UY"
      },
      "source": [
        "Visualización de los primeros datos en la data."
      ]
    },
    {
      "cell_type": "code",
      "execution_count": 123,
      "metadata": {
        "colab": {
          "base_uri": "https://localhost:8080/",
          "height": 571
        },
        "id": "iFAHUSmnO9OS",
        "outputId": "c2420067-fdba-462b-a9ef-d27aeadbc32b"
      },
      "outputs": [
        {
          "data": {
            "text/html": [
              "<div>\n",
              "<style scoped>\n",
              "    .dataframe tbody tr th:only-of-type {\n",
              "        vertical-align: middle;\n",
              "    }\n",
              "\n",
              "    .dataframe tbody tr th {\n",
              "        vertical-align: top;\n",
              "    }\n",
              "\n",
              "    .dataframe thead th {\n",
              "        text-align: right;\n",
              "    }\n",
              "</style>\n",
              "<table border=\"1\" class=\"dataframe\">\n",
              "  <thead>\n",
              "    <tr style=\"text-align: right;\">\n",
              "      <th></th>\n",
              "      <th>Posted On</th>\n",
              "      <th>BHK</th>\n",
              "      <th>Rent</th>\n",
              "      <th>Size</th>\n",
              "      <th>Floor</th>\n",
              "      <th>Area Type</th>\n",
              "      <th>Area Locality</th>\n",
              "      <th>City</th>\n",
              "      <th>Furnishing Status</th>\n",
              "      <th>Tenant Preferred</th>\n",
              "      <th>Bathroom</th>\n",
              "      <th>Point of Contact</th>\n",
              "    </tr>\n",
              "  </thead>\n",
              "  <tbody>\n",
              "    <tr>\n",
              "      <th>0</th>\n",
              "      <td>2022-05-18</td>\n",
              "      <td>2</td>\n",
              "      <td>10000</td>\n",
              "      <td>1100</td>\n",
              "      <td>Ground out of 2</td>\n",
              "      <td>Super Area</td>\n",
              "      <td>Bandel</td>\n",
              "      <td>Kolkata</td>\n",
              "      <td>Unfurnished</td>\n",
              "      <td>Bachelors/Family</td>\n",
              "      <td>2</td>\n",
              "      <td>Contact Owner</td>\n",
              "    </tr>\n",
              "    <tr>\n",
              "      <th>1</th>\n",
              "      <td>2022-05-13</td>\n",
              "      <td>2</td>\n",
              "      <td>20000</td>\n",
              "      <td>800</td>\n",
              "      <td>1 out of 3</td>\n",
              "      <td>Super Area</td>\n",
              "      <td>Phool Bagan, Kankurgachi</td>\n",
              "      <td>Kolkata</td>\n",
              "      <td>Semi-Furnished</td>\n",
              "      <td>Bachelors/Family</td>\n",
              "      <td>1</td>\n",
              "      <td>Contact Owner</td>\n",
              "    </tr>\n",
              "    <tr>\n",
              "      <th>2</th>\n",
              "      <td>2022-05-16</td>\n",
              "      <td>2</td>\n",
              "      <td>17000</td>\n",
              "      <td>1000</td>\n",
              "      <td>1 out of 3</td>\n",
              "      <td>Super Area</td>\n",
              "      <td>Salt Lake City Sector 2</td>\n",
              "      <td>Kolkata</td>\n",
              "      <td>Semi-Furnished</td>\n",
              "      <td>Bachelors/Family</td>\n",
              "      <td>1</td>\n",
              "      <td>Contact Owner</td>\n",
              "    </tr>\n",
              "    <tr>\n",
              "      <th>3</th>\n",
              "      <td>2022-07-04</td>\n",
              "      <td>2</td>\n",
              "      <td>10000</td>\n",
              "      <td>800</td>\n",
              "      <td>1 out of 2</td>\n",
              "      <td>Super Area</td>\n",
              "      <td>Dumdum Park</td>\n",
              "      <td>Kolkata</td>\n",
              "      <td>Unfurnished</td>\n",
              "      <td>Bachelors/Family</td>\n",
              "      <td>1</td>\n",
              "      <td>Contact Owner</td>\n",
              "    </tr>\n",
              "    <tr>\n",
              "      <th>4</th>\n",
              "      <td>2022-05-09</td>\n",
              "      <td>2</td>\n",
              "      <td>7500</td>\n",
              "      <td>850</td>\n",
              "      <td>1 out of 2</td>\n",
              "      <td>Carpet Area</td>\n",
              "      <td>South Dum Dum</td>\n",
              "      <td>Kolkata</td>\n",
              "      <td>Unfurnished</td>\n",
              "      <td>Bachelors</td>\n",
              "      <td>1</td>\n",
              "      <td>Contact Owner</td>\n",
              "    </tr>\n",
              "    <tr>\n",
              "      <th>5</th>\n",
              "      <td>2022-04-29</td>\n",
              "      <td>2</td>\n",
              "      <td>7000</td>\n",
              "      <td>600</td>\n",
              "      <td>Ground out of 1</td>\n",
              "      <td>Super Area</td>\n",
              "      <td>Thakurpukur</td>\n",
              "      <td>Kolkata</td>\n",
              "      <td>Unfurnished</td>\n",
              "      <td>Bachelors/Family</td>\n",
              "      <td>2</td>\n",
              "      <td>Contact Owner</td>\n",
              "    </tr>\n",
              "    <tr>\n",
              "      <th>6</th>\n",
              "      <td>2022-06-21</td>\n",
              "      <td>2</td>\n",
              "      <td>10000</td>\n",
              "      <td>700</td>\n",
              "      <td>Ground out of 4</td>\n",
              "      <td>Super Area</td>\n",
              "      <td>Malancha</td>\n",
              "      <td>Kolkata</td>\n",
              "      <td>Unfurnished</td>\n",
              "      <td>Bachelors</td>\n",
              "      <td>2</td>\n",
              "      <td>Contact Agent</td>\n",
              "    </tr>\n",
              "    <tr>\n",
              "      <th>7</th>\n",
              "      <td>2022-06-21</td>\n",
              "      <td>1</td>\n",
              "      <td>5000</td>\n",
              "      <td>250</td>\n",
              "      <td>1 out of 2</td>\n",
              "      <td>Super Area</td>\n",
              "      <td>Malancha</td>\n",
              "      <td>Kolkata</td>\n",
              "      <td>Unfurnished</td>\n",
              "      <td>Bachelors</td>\n",
              "      <td>1</td>\n",
              "      <td>Contact Agent</td>\n",
              "    </tr>\n",
              "    <tr>\n",
              "      <th>8</th>\n",
              "      <td>2022-06-07</td>\n",
              "      <td>2</td>\n",
              "      <td>26000</td>\n",
              "      <td>800</td>\n",
              "      <td>1 out of 2</td>\n",
              "      <td>Carpet Area</td>\n",
              "      <td>Palm Avenue Kolkata, Ballygunge</td>\n",
              "      <td>Kolkata</td>\n",
              "      <td>Unfurnished</td>\n",
              "      <td>Bachelors</td>\n",
              "      <td>2</td>\n",
              "      <td>Contact Agent</td>\n",
              "    </tr>\n",
              "    <tr>\n",
              "      <th>9</th>\n",
              "      <td>2022-06-20</td>\n",
              "      <td>2</td>\n",
              "      <td>10000</td>\n",
              "      <td>1000</td>\n",
              "      <td>1 out of 3</td>\n",
              "      <td>Carpet Area</td>\n",
              "      <td>Natunhat</td>\n",
              "      <td>Kolkata</td>\n",
              "      <td>Semi-Furnished</td>\n",
              "      <td>Bachelors/Family</td>\n",
              "      <td>2</td>\n",
              "      <td>Contact Owner</td>\n",
              "    </tr>\n",
              "  </tbody>\n",
              "</table>\n",
              "</div>"
            ],
            "text/plain": [
              "    Posted On  BHK   Rent  Size            Floor    Area Type  \\\n",
              "0  2022-05-18    2  10000  1100  Ground out of 2   Super Area   \n",
              "1  2022-05-13    2  20000   800       1 out of 3   Super Area   \n",
              "2  2022-05-16    2  17000  1000       1 out of 3   Super Area   \n",
              "3  2022-07-04    2  10000   800       1 out of 2   Super Area   \n",
              "4  2022-05-09    2   7500   850       1 out of 2  Carpet Area   \n",
              "5  2022-04-29    2   7000   600  Ground out of 1   Super Area   \n",
              "6  2022-06-21    2  10000   700  Ground out of 4   Super Area   \n",
              "7  2022-06-21    1   5000   250       1 out of 2   Super Area   \n",
              "8  2022-06-07    2  26000   800       1 out of 2  Carpet Area   \n",
              "9  2022-06-20    2  10000  1000       1 out of 3  Carpet Area   \n",
              "\n",
              "                     Area Locality     City Furnishing Status  \\\n",
              "0                           Bandel  Kolkata       Unfurnished   \n",
              "1         Phool Bagan, Kankurgachi  Kolkata    Semi-Furnished   \n",
              "2          Salt Lake City Sector 2  Kolkata    Semi-Furnished   \n",
              "3                      Dumdum Park  Kolkata       Unfurnished   \n",
              "4                    South Dum Dum  Kolkata       Unfurnished   \n",
              "5                      Thakurpukur  Kolkata       Unfurnished   \n",
              "6                         Malancha  Kolkata       Unfurnished   \n",
              "7                         Malancha  Kolkata       Unfurnished   \n",
              "8  Palm Avenue Kolkata, Ballygunge  Kolkata       Unfurnished   \n",
              "9                         Natunhat  Kolkata    Semi-Furnished   \n",
              "\n",
              "   Tenant Preferred  Bathroom Point of Contact  \n",
              "0  Bachelors/Family         2    Contact Owner  \n",
              "1  Bachelors/Family         1    Contact Owner  \n",
              "2  Bachelors/Family         1    Contact Owner  \n",
              "3  Bachelors/Family         1    Contact Owner  \n",
              "4         Bachelors         1    Contact Owner  \n",
              "5  Bachelors/Family         2    Contact Owner  \n",
              "6         Bachelors         2    Contact Agent  \n",
              "7         Bachelors         1    Contact Agent  \n",
              "8         Bachelors         2    Contact Agent  \n",
              "9  Bachelors/Family         2    Contact Owner  "
            ]
          },
          "execution_count": 123,
          "metadata": {},
          "output_type": "execute_result"
        }
      ],
      "source": [
        "# Imprimir el DataFrame\n",
        "df.head(10)"
      ]
    },
    {
      "cell_type": "markdown",
      "metadata": {
        "id": "yzk9MxzFK6bd"
      },
      "source": []
    },
    {
      "cell_type": "code",
      "execution_count": 124,
      "metadata": {
        "colab": {
          "base_uri": "https://localhost:8080/"
        },
        "id": "v86qUT4lcTCf",
        "outputId": "15af8040-d395-4d4b-d51e-504849a15598"
      },
      "outputs": [
        {
          "name": "stdout",
          "output_type": "stream",
          "text": [
            "<class 'pandas.core.frame.DataFrame'>\n",
            "RangeIndex: 4746 entries, 0 to 4745\n",
            "Data columns (total 12 columns):\n",
            " #   Column             Non-Null Count  Dtype \n",
            "---  ------             --------------  ----- \n",
            " 0   Posted On          4746 non-null   object\n",
            " 1   BHK                4746 non-null   int64 \n",
            " 2   Rent               4746 non-null   int64 \n",
            " 3   Size               4746 non-null   int64 \n",
            " 4   Floor              4746 non-null   object\n",
            " 5   Area Type          4746 non-null   object\n",
            " 6   Area Locality      4746 non-null   object\n",
            " 7   City               4746 non-null   object\n",
            " 8   Furnishing Status  4746 non-null   object\n",
            " 9   Tenant Preferred   4746 non-null   object\n",
            " 10  Bathroom           4746 non-null   int64 \n",
            " 11  Point of Contact   4746 non-null   object\n",
            "dtypes: int64(4), object(8)\n",
            "memory usage: 445.1+ KB\n"
          ]
        }
      ],
      "source": [
        "df.info()"
      ]
    },
    {
      "cell_type": "markdown",
      "metadata": {
        "id": "Dz1ekN5QF8LN"
      },
      "source": [
        "##**TRATAMIENTO DE VALORES FALTANTES**"
      ]
    },
    {
      "cell_type": "code",
      "execution_count": 125,
      "metadata": {
        "colab": {
          "base_uri": "https://localhost:8080/",
          "height": 460
        },
        "id": "Z_FM-Rc1ERfg",
        "outputId": "4bad1fde-73f5-4c88-b810-9a252b47aa52"
      },
      "outputs": [
        {
          "data": {
            "text/plain": [
              "Posted On            0\n",
              "BHK                  0\n",
              "Rent                 0\n",
              "Size                 0\n",
              "Floor                0\n",
              "Area Type            0\n",
              "Area Locality        0\n",
              "City                 0\n",
              "Furnishing Status    0\n",
              "Tenant Preferred     0\n",
              "Bathroom             0\n",
              "Point of Contact     0\n",
              "dtype: int64"
            ]
          },
          "execution_count": 125,
          "metadata": {},
          "output_type": "execute_result"
        }
      ],
      "source": [
        "df.isnull().sum()"
      ]
    },
    {
      "cell_type": "markdown",
      "metadata": {
        "id": "lgR8eStfF8LO"
      },
      "source": [
        "No existen valores faltantes"
      ]
    },
    {
      "cell_type": "markdown",
      "metadata": {
        "id": "gOUUOTm5mODn"
      },
      "source": [
        "##**VALORES DUPLICADOS**"
      ]
    },
    {
      "cell_type": "code",
      "execution_count": 126,
      "metadata": {
        "colab": {
          "base_uri": "https://localhost:8080/"
        },
        "id": "V_e-jStLmIqA",
        "outputId": "e892b6d2-2f0f-4567-b2ab-026220a38b59"
      },
      "outputs": [
        {
          "name": "stdout",
          "output_type": "stream",
          "text": [
            "Número total de filas duplicadas: 0\n"
          ]
        }
      ],
      "source": [
        "cantidad_total_duplicados = df.duplicated().sum()\n",
        "print(f\"Número total de filas duplicadas: {cantidad_total_duplicados}\")"
      ]
    },
    {
      "cell_type": "markdown",
      "metadata": {
        "id": "efjr5_jNmUnV"
      },
      "source": [
        "No se encontraron datos duplicados en ninguna de las columnas del conjunto de datos."
      ]
    },
    {
      "cell_type": "markdown",
      "metadata": {
        "id": "zTPHj9qsBj_B"
      },
      "source": [
        "## **RENOMBRAR  VARIABLES**"
      ]
    },
    {
      "cell_type": "code",
      "execution_count": 127,
      "metadata": {
        "id": "i3R8PDlXBkqf"
      },
      "outputs": [],
      "source": [
        "import pandas as pd\n",
        "\n",
        "# Definir el mapeo de nombres\n",
        "nombres_nuevos = {\n",
        "    'BHK': 'habitaciones',\n",
        "    'Rent': 'renta',\n",
        "    'Size': 'tamaño',\n",
        "    'Floor': 'piso',\n",
        "    'Area Type': 'tipo_area',\n",
        "    'Area Locality': 'localidad',\n",
        "    'City': 'ciudad',\n",
        "    'Furnishing Status': 'estado_amueblado',\n",
        "    'Tenant Preferred': 'inquilino_preferido',\n",
        "    'Bathroom': 'baños',\n",
        "    'Point of Contact': 'contacto',\n",
        "    'Posted On':'fecha_publicacion'\n",
        "}\n",
        "\n",
        "# Renombrar las columnas\n",
        "df = df.rename(columns=nombres_nuevos)\n",
        "\n"
      ]
    },
    {
      "cell_type": "code",
      "execution_count": 128,
      "metadata": {
        "colab": {
          "base_uri": "https://localhost:8080/"
        },
        "id": "zYYLpcPaKQwE",
        "outputId": "5a454bbf-3fb8-4637-915b-5707a2af2300"
      },
      "outputs": [
        {
          "name": "stdout",
          "output_type": "stream",
          "text": [
            "<class 'pandas.core.frame.DataFrame'>\n",
            "RangeIndex: 4746 entries, 0 to 4745\n",
            "Data columns (total 12 columns):\n",
            " #   Column               Non-Null Count  Dtype \n",
            "---  ------               --------------  ----- \n",
            " 0   fecha_publicacion    4746 non-null   object\n",
            " 1   habitaciones         4746 non-null   int64 \n",
            " 2   renta                4746 non-null   int64 \n",
            " 3   tamaño               4746 non-null   int64 \n",
            " 4   piso                 4746 non-null   object\n",
            " 5   tipo_area            4746 non-null   object\n",
            " 6   localidad            4746 non-null   object\n",
            " 7   ciudad               4746 non-null   object\n",
            " 8   estado_amueblado     4746 non-null   object\n",
            " 9   inquilino_preferido  4746 non-null   object\n",
            " 10  baños                4746 non-null   int64 \n",
            " 11  contacto             4746 non-null   object\n",
            "dtypes: int64(4), object(8)\n",
            "memory usage: 445.1+ KB\n"
          ]
        }
      ],
      "source": [
        "df.info()"
      ]
    },
    {
      "cell_type": "code",
      "execution_count": 129,
      "metadata": {
        "id": "SYA9SxZNgbng"
      },
      "outputs": [],
      "source": [
        "# Convertir las variables numéricas\n",
        "variables_numericas = ['renta', 'habitaciones', 'baños', 'tamaño']\n",
        "df[variables_numericas] = df[variables_numericas].apply(pd.to_numeric, errors='coerce')"
      ]
    },
    {
      "cell_type": "markdown",
      "metadata": {
        "id": "AAvZH983L8PN"
      },
      "source": [
        "\n",
        "\n",
        "### **Descripción de cada variable**\n",
        "\n",
        "| Variable en español | Nombre original en inglés | Descripción |\n",
        "|--------------------|------------------------|-------------|\n",
        "| **habitaciones** | BHK | Número de habitaciones, sala y cocina. |\n",
        "| **renta** | Rent | Precio de alquiler de la propiedad. |\n",
        "| **tamaño** | Size | Tamaño de la propiedad en pies cuadrados. |\n",
        "| **piso** | Floor | Piso en el que está ubicada la propiedad y número total de pisos del edificio. |\n",
        "| **tipo_area** | Area Type | Tipo de área utilizada en el cálculo del tamaño (Superficie, Área de Alfombra o Área Construida). |\n",
        "| **localidad** | Area Locality | Localidad donde está ubicada la propiedad. |\n",
        "| **ciudad** | City | Ciudad donde se encuentra la propiedad. |\n",
        "| **estado_amueblado** | Furnishing Status | Estado de amueblado de la propiedad: Amueblado, Semiamueblado o Sin amueblar. |\n",
        "| **inquilino_preferido** | Tenant Preferred | Tipo de inquilino preferido por el dueño o agente. |\n",
        "| **baños** | Bathroom | Número de baños en la propiedad. |\n",
        "| **contacto** | Point of Contact | Persona o entidad a la que se debe contactar para más información sobre la propiedad. |\n",
        "| **fecha_publicacion** | Posted On | Fecha en la que la propiedad fue publicada en la plataforma. |\n",
        "\n",
        "- ---"
      ]
    },
    {
      "cell_type": "markdown",
      "metadata": {
        "id": "VDHXJTRkPCYo"
      },
      "source": [
        "## **RESUMEN ESTADÍSTICO DE LAS VARIABLES CUALITATIVAS**\n"
      ]
    },
    {
      "cell_type": "code",
      "execution_count": 130,
      "metadata": {
        "id": "p5l2Tr0Ekn1B"
      },
      "outputs": [],
      "source": [
        "# Diccionario con DataFrames.\n",
        "Listadataframes = {\n",
        "    'Prediccion_Precio_Alquiler': df}"
      ]
    },
    {
      "cell_type": "code",
      "execution_count": 131,
      "metadata": {
        "id": "yhJpbseckE4C"
      },
      "outputs": [],
      "source": [
        "def descripcion_categorica(diccionario):\n",
        "    '''\n",
        "    Función para describir las variables categóricas de múltiples tablas en un diccionario.\n",
        "\n",
        "    Parameters:\n",
        "    - diccionario: Un diccionario donde las claves son nombres de tablas y los valores son DataFrames de Pandas.\n",
        "\n",
        "    Returns:\n",
        "    - Un DataFrame que contiene la descripción de las variables numéricas para todas las tablas.\n",
        "    '''\n",
        "    categorical_description = []\n",
        "\n",
        "    for tabla_nombre, tabla_datos in diccionario.items():\n",
        "        # print(f\"Tabla: {tabla_nombre}\")\n",
        "        for col in tabla_datos.columns:\n",
        "            if tabla_datos[col].dtype == 'O':  # 'O' representa el tipo object (categórico)\n",
        "                s = tabla_datos[col]\n",
        "                mode = s.mode()\n",
        "                categorical_description.append({\n",
        "                    'Tabla': tabla_nombre,\n",
        "                    'Índice': col,\n",
        "                    'Nombre': col,\n",
        "                    'No Nulos': s.notnull().sum(),\n",
        "                    'Valores Únicos': s.nunique(),\n",
        "                    'Moda': mode[0] if not mode.empty else None,\n",
        "                    'Frecuencia de Moda': s.value_counts().iloc[0] if not mode.empty else None\n",
        "                })\n",
        "\n",
        "    descripcion_df = pd.DataFrame(categorical_description)\n",
        "    return descripcion_df"
      ]
    },
    {
      "cell_type": "code",
      "execution_count": 132,
      "metadata": {
        "colab": {
          "base_uri": "https://localhost:8080/",
          "height": 300
        },
        "id": "97wDFzrlkeIk",
        "outputId": "3b913698-e6e1-4943-d805-678cd9e91b99"
      },
      "outputs": [
        {
          "data": {
            "text/html": [
              "<div>\n",
              "<style scoped>\n",
              "    .dataframe tbody tr th:only-of-type {\n",
              "        vertical-align: middle;\n",
              "    }\n",
              "\n",
              "    .dataframe tbody tr th {\n",
              "        vertical-align: top;\n",
              "    }\n",
              "\n",
              "    .dataframe thead th {\n",
              "        text-align: right;\n",
              "    }\n",
              "</style>\n",
              "<table border=\"1\" class=\"dataframe\">\n",
              "  <thead>\n",
              "    <tr style=\"text-align: right;\">\n",
              "      <th></th>\n",
              "      <th>Tabla</th>\n",
              "      <th>Índice</th>\n",
              "      <th>Nombre</th>\n",
              "      <th>No Nulos</th>\n",
              "      <th>Valores Únicos</th>\n",
              "      <th>Moda</th>\n",
              "      <th>Frecuencia de Moda</th>\n",
              "    </tr>\n",
              "  </thead>\n",
              "  <tbody>\n",
              "    <tr>\n",
              "      <th>0</th>\n",
              "      <td>Prediccion_Precio_Alquiler</td>\n",
              "      <td>fecha_publicacion</td>\n",
              "      <td>fecha_publicacion</td>\n",
              "      <td>4746</td>\n",
              "      <td>81</td>\n",
              "      <td>2022-07-06</td>\n",
              "      <td>311</td>\n",
              "    </tr>\n",
              "    <tr>\n",
              "      <th>1</th>\n",
              "      <td>Prediccion_Precio_Alquiler</td>\n",
              "      <td>piso</td>\n",
              "      <td>piso</td>\n",
              "      <td>4746</td>\n",
              "      <td>480</td>\n",
              "      <td>1 out of 2</td>\n",
              "      <td>379</td>\n",
              "    </tr>\n",
              "    <tr>\n",
              "      <th>2</th>\n",
              "      <td>Prediccion_Precio_Alquiler</td>\n",
              "      <td>tipo_area</td>\n",
              "      <td>tipo_area</td>\n",
              "      <td>4746</td>\n",
              "      <td>3</td>\n",
              "      <td>Super Area</td>\n",
              "      <td>2446</td>\n",
              "    </tr>\n",
              "    <tr>\n",
              "      <th>3</th>\n",
              "      <td>Prediccion_Precio_Alquiler</td>\n",
              "      <td>localidad</td>\n",
              "      <td>localidad</td>\n",
              "      <td>4746</td>\n",
              "      <td>2235</td>\n",
              "      <td>Bandra West</td>\n",
              "      <td>37</td>\n",
              "    </tr>\n",
              "    <tr>\n",
              "      <th>4</th>\n",
              "      <td>Prediccion_Precio_Alquiler</td>\n",
              "      <td>ciudad</td>\n",
              "      <td>ciudad</td>\n",
              "      <td>4746</td>\n",
              "      <td>6</td>\n",
              "      <td>Mumbai</td>\n",
              "      <td>972</td>\n",
              "    </tr>\n",
              "    <tr>\n",
              "      <th>5</th>\n",
              "      <td>Prediccion_Precio_Alquiler</td>\n",
              "      <td>estado_amueblado</td>\n",
              "      <td>estado_amueblado</td>\n",
              "      <td>4746</td>\n",
              "      <td>3</td>\n",
              "      <td>Semi-Furnished</td>\n",
              "      <td>2251</td>\n",
              "    </tr>\n",
              "    <tr>\n",
              "      <th>6</th>\n",
              "      <td>Prediccion_Precio_Alquiler</td>\n",
              "      <td>inquilino_preferido</td>\n",
              "      <td>inquilino_preferido</td>\n",
              "      <td>4746</td>\n",
              "      <td>3</td>\n",
              "      <td>Bachelors/Family</td>\n",
              "      <td>3444</td>\n",
              "    </tr>\n",
              "    <tr>\n",
              "      <th>7</th>\n",
              "      <td>Prediccion_Precio_Alquiler</td>\n",
              "      <td>contacto</td>\n",
              "      <td>contacto</td>\n",
              "      <td>4746</td>\n",
              "      <td>3</td>\n",
              "      <td>Contact Owner</td>\n",
              "      <td>3216</td>\n",
              "    </tr>\n",
              "  </tbody>\n",
              "</table>\n",
              "</div>"
            ],
            "text/plain": [
              "                        Tabla               Índice               Nombre  \\\n",
              "0  Prediccion_Precio_Alquiler    fecha_publicacion    fecha_publicacion   \n",
              "1  Prediccion_Precio_Alquiler                 piso                 piso   \n",
              "2  Prediccion_Precio_Alquiler            tipo_area            tipo_area   \n",
              "3  Prediccion_Precio_Alquiler            localidad            localidad   \n",
              "4  Prediccion_Precio_Alquiler               ciudad               ciudad   \n",
              "5  Prediccion_Precio_Alquiler     estado_amueblado     estado_amueblado   \n",
              "6  Prediccion_Precio_Alquiler  inquilino_preferido  inquilino_preferido   \n",
              "7  Prediccion_Precio_Alquiler             contacto             contacto   \n",
              "\n",
              "   No Nulos  Valores Únicos              Moda  Frecuencia de Moda  \n",
              "0      4746              81        2022-07-06                 311  \n",
              "1      4746             480        1 out of 2                 379  \n",
              "2      4746               3        Super Area                2446  \n",
              "3      4746            2235       Bandra West                  37  \n",
              "4      4746               6            Mumbai                 972  \n",
              "5      4746               3    Semi-Furnished                2251  \n",
              "6      4746               3  Bachelors/Family                3444  \n",
              "7      4746               3     Contact Owner                3216  "
            ]
          },
          "execution_count": 132,
          "metadata": {},
          "output_type": "execute_result"
        }
      ],
      "source": [
        "descripcion_categorica(Listadataframes)"
      ]
    },
    {
      "cell_type": "markdown",
      "metadata": {
        "id": "BYCUG9JKK5py"
      },
      "source": []
    },
    {
      "cell_type": "markdown",
      "metadata": {
        "id": "nNyWEv26K5Ec"
      },
      "source": [
        " 0   fecha_publicacion    4746 non-null   object\n",
        " 1   habitaciones         4746 non-null   int64\n",
        " 2   renta                4746 non-null   int64\n",
        " 3   tamaño               4746 non-null   int64\n",
        " 4   piso                 4746 non-null   object\n",
        " 5   tipo_area            4746 non-null   object\n",
        " 6   localidad            4746 non-null   object\n",
        " 7   ciudad               4746 non-null   object\n",
        " 8   estado_amueblado     4746 non-null   object\n",
        " 9   inquilino_preferido  4746 non-null   object\n",
        " 10  baños                4746 non-null   int64\n",
        " 11  contacto             4746 non-null   object"
      ]
    },
    {
      "cell_type": "markdown",
      "metadata": {
        "id": "Mg7uS4AdZL2P"
      },
      "source": [
        "**Grafico para cada variable cualitativa**"
      ]
    },
    {
      "cell_type": "code",
      "execution_count": 133,
      "metadata": {
        "id": "aOxH9C4OZ_Wl"
      },
      "outputs": [],
      "source": [
        "# Lista de variables a excluir\n",
        "variables_excluir = [\"fecha_publicacion\", \"estado_amueblado\", \"localidad\",\"inquilino_preferido\"]\n",
        "\n",
        "# Crear una nueva versión del DataFrame excluyendo las variables especificadas\n",
        "df_sin_variables = df.drop(variables_excluir, axis=1)\n"
      ]
    },
    {
      "cell_type": "code",
      "execution_count": 134,
      "metadata": {
        "colab": {
          "base_uri": "https://localhost:8080/",
          "height": 903
        },
        "id": "ien9QY-JXi2n",
        "outputId": "2c5a3b0d-87c4-4301-8565-7c7c20725c47"
      },
      "outputs": [
        {
          "data": {
            "image/png": "[encoded data removed]",
            "text/plain": [
              "<Figure size 1300x900 with 4 Axes>"
            ]
          },
          "metadata": {},
          "output_type": "display_data"
        }
      ],
      "source": [
        "import matplotlib.pyplot as plt\n",
        "import seaborn as sns\n",
        "\n",
        "# Ajustar número de subplots en función del número de columnas\n",
        "fig, axes = plt.subplots(nrows=2, ncols=2, figsize=(13, 9))\n",
        "axes = axes.flat\n",
        "columnas_object = df_sin_variables.select_dtypes(include=['object']).columns\n",
        "\n",
        "for i, colum in enumerate(columnas_object):\n",
        "    counts = df_sin_variables[colum].value_counts()\n",
        "    total = counts.sum()\n",
        "    percentages = (counts / total) * 100\n",
        "\n",
        "    # Crear el gráfico con las frecuencias relativas\n",
        "    ax = axes[i]\n",
        "    counts.plot.barh(ax=ax, color='#00BFBF', edgecolor='#5F9EA0')\n",
        "    ax.set_title(colum, fontsize=10, fontweight=\"bold\")  # Aumentar el tamaño del título\n",
        "    ax.tick_params(labelsize=10)  # Aumentar el tamaño de las etiquetas de los ejes\n",
        "    ax.set_xlabel(\"Frecuencia Absoluta\", fontsize=9)  # Aumentar el tamaño del texto del eje x\n",
        "\n",
        "    # Agregar etiquetas de porcentaje a las barras\n",
        "    for j, count in enumerate(counts):\n",
        "        ax.text(count + 1, j, f'{percentages[j]:.1f}%', va='center', fontsize=8)\n",
        "\n",
        "    # Agregar una cuadrícula de fondo\n",
        "    ax.grid(True, linestyle='--', alpha=0.6)\n",
        "\n",
        "fig.tight_layout()\n",
        "plt.subplots_adjust(top=0.9)\n",
        "fig.suptitle('Distribución variables cualitativas', fontsize=12, fontweight=\"bold\")  # Aumentar el tamaño del título principal\n",
        "\n",
        "plt.show()"
      ]
    },
    {
      "cell_type": "markdown",
      "metadata": {
        "id": "CSix-i328VAh"
      },
      "source": [
        "**Análisis del grafico de las variables Cualitativa**\n",
        "\n",
        "--------------------------------------------------"
      ]
    },
    {
      "cell_type": "markdown",
      "metadata": {
        "id": "cSI0Ygk5IxGl"
      },
      "source": [
        "# **RESUMEN ESTADÍSTICO DE LAS VARIABLES CUANTITATIVAS**"
      ]
    },
    {
      "cell_type": "code",
      "execution_count": 135,
      "metadata": {
        "colab": {
          "base_uri": "https://localhost:8080/",
          "height": 300
        },
        "id": "IBstTxBdI0Kr",
        "outputId": "490336d3-d147-4279-bb10-3d3279933ce4"
      },
      "outputs": [
        {
          "data": {
            "text/html": [
              "<div>\n",
              "<style scoped>\n",
              "    .dataframe tbody tr th:only-of-type {\n",
              "        vertical-align: middle;\n",
              "    }\n",
              "\n",
              "    .dataframe tbody tr th {\n",
              "        vertical-align: top;\n",
              "    }\n",
              "\n",
              "    .dataframe thead th {\n",
              "        text-align: right;\n",
              "    }\n",
              "</style>\n",
              "<table border=\"1\" class=\"dataframe\">\n",
              "  <thead>\n",
              "    <tr style=\"text-align: right;\">\n",
              "      <th></th>\n",
              "      <th>habitaciones</th>\n",
              "      <th>renta</th>\n",
              "      <th>tamaño</th>\n",
              "      <th>baños</th>\n",
              "    </tr>\n",
              "  </thead>\n",
              "  <tbody>\n",
              "    <tr>\n",
              "      <th>conteo</th>\n",
              "      <td>4746.00</td>\n",
              "      <td>4746.00</td>\n",
              "      <td>4746.00</td>\n",
              "      <td>4746.00</td>\n",
              "    </tr>\n",
              "    <tr>\n",
              "      <th>promedio</th>\n",
              "      <td>2.08</td>\n",
              "      <td>34993.45</td>\n",
              "      <td>967.49</td>\n",
              "      <td>1.97</td>\n",
              "    </tr>\n",
              "    <tr>\n",
              "      <th>desviación</th>\n",
              "      <td>0.83</td>\n",
              "      <td>78106.41</td>\n",
              "      <td>634.20</td>\n",
              "      <td>0.88</td>\n",
              "    </tr>\n",
              "    <tr>\n",
              "      <th>mínimo</th>\n",
              "      <td>1.00</td>\n",
              "      <td>1200.00</td>\n",
              "      <td>10.00</td>\n",
              "      <td>1.00</td>\n",
              "    </tr>\n",
              "    <tr>\n",
              "      <th>25%</th>\n",
              "      <td>2.00</td>\n",
              "      <td>10000.00</td>\n",
              "      <td>550.00</td>\n",
              "      <td>1.00</td>\n",
              "    </tr>\n",
              "    <tr>\n",
              "      <th>50%</th>\n",
              "      <td>2.00</td>\n",
              "      <td>16000.00</td>\n",
              "      <td>850.00</td>\n",
              "      <td>2.00</td>\n",
              "    </tr>\n",
              "    <tr>\n",
              "      <th>75%</th>\n",
              "      <td>3.00</td>\n",
              "      <td>33000.00</td>\n",
              "      <td>1200.00</td>\n",
              "      <td>2.00</td>\n",
              "    </tr>\n",
              "    <tr>\n",
              "      <th>máximo</th>\n",
              "      <td>6.00</td>\n",
              "      <td>3500000.00</td>\n",
              "      <td>8000.00</td>\n",
              "      <td>10.00</td>\n",
              "    </tr>\n",
              "  </tbody>\n",
              "</table>\n",
              "</div>"
            ],
            "text/plain": [
              "            habitaciones      renta  tamaño   baños\n",
              "conteo           4746.00    4746.00 4746.00 4746.00\n",
              "promedio            2.08   34993.45  967.49    1.97\n",
              "desviación          0.83   78106.41  634.20    0.88\n",
              "mínimo              1.00    1200.00   10.00    1.00\n",
              "25%                 2.00   10000.00  550.00    1.00\n",
              "50%                 2.00   16000.00  850.00    2.00\n",
              "75%                 3.00   33000.00 1200.00    2.00\n",
              "máximo              6.00 3500000.00 8000.00   10.00"
            ]
          },
          "execution_count": 135,
          "metadata": {},
          "output_type": "execute_result"
        }
      ],
      "source": [
        "import pandas as pd\n",
        "\n",
        "# Calcular el coeficiente de variación (CV)\n",
        "cv = (df.select_dtypes(include=['float64', 'int']).std() / df.select_dtypes(include=['float64', 'int']).mean()).rename('coef_var')\n",
        "\n",
        "# Descripción de los datos\n",
        "description = df.select_dtypes(include=['float64', 'int']).describe()\n",
        "description = description.rename(index={'count': 'conteo', 'mean': 'promedio', 'std': 'desviación', 'min':'mínimo', 'max': 'máximo'})\n",
        "#description = description.append(cv)\n",
        "description.round(2)"
      ]
    },
    {
      "cell_type": "markdown",
      "metadata": {
        "id": "RJDdMiONJWXX"
      },
      "source": [
        "**Análisis de la tabla resumen**\n",
        "\n",
        "--------------------------------------------------"
      ]
    },
    {
      "cell_type": "markdown",
      "metadata": {
        "id": "Elagruq1OZza"
      },
      "source": [
        "**Análisis de Distribuciones con Histogramas**"
      ]
    },
    {
      "cell_type": "code",
      "execution_count": 136,
      "metadata": {
        "colab": {
          "base_uri": "https://localhost:8080/",
          "height": 512
        },
        "id": "d3nZAV_wToFh",
        "outputId": "979f55ef-18f8-416c-aeb0-15bcce30e6b0"
      },
      "outputs": [
        {
          "data": {
            "image/png": "[encoded data removed]",
            "text/plain": [
              "<Figure size 900x500 with 4 Axes>"
            ]
          },
          "metadata": {},
          "output_type": "display_data"
        }
      ],
      "source": [
        "# Gráfico de distribución para cada variable numérica\n",
        "# ==============================================================================\n",
        "# Ajustar número de subplots en función del número de columnas\n",
        "fig, axes = plt.subplots(nrows=2, ncols=2, figsize=(9, 5))\n",
        "axes = axes.flat\n",
        "columnas_numeric = df.select_dtypes(include=['float64', 'int']).columns\n",
        "columnas_numeric = columnas_numeric.drop('renta')\n",
        "\n",
        "for i, colum in enumerate(columnas_numeric):\n",
        "    sns.histplot(\n",
        "        data     = df,\n",
        "        x        = colum,\n",
        "        #fill    = True,\n",
        "        stat     = \"proportion\",\n",
        "        kde      = True,\n",
        "        color    = (list(plt.rcParams['axes.prop_cycle'])*2)[i][\"color\"],\n",
        "        line_kws = {'linewidth': 2},\n",
        "        alpha    = 0.3,\n",
        "        ax       = axes[i]\n",
        "    )\n",
        "    axes[i].set_title(colum, fontsize = 7, fontweight = \"bold\")\n",
        "    axes[i].tick_params(labelsize = 6)\n",
        "    axes[i].set_xlabel(\"\")\n",
        "\n",
        "\n",
        "fig.tight_layout()\n",
        "plt.subplots_adjust(top = 0.9)\n",
        "fig.suptitle('Distribución variables numéricas', fontsize = 10, fontweight = \"bold\");"
      ]
    },
    {
      "cell_type": "code",
      "execution_count": 137,
      "metadata": {
        "colab": {
          "base_uri": "https://localhost:8080/",
          "height": 615
        },
        "id": "QSbGKRGdZxOG",
        "outputId": "e236ab5b-b304-425c-c03b-755911da261c"
      },
      "outputs": [
        {
          "data": {
            "image/png": "[encoded data removed]",
            "text/plain": [
              "<Figure size 1200x600 with 1 Axes>"
            ]
          },
          "metadata": {},
          "output_type": "display_data"
        }
      ],
      "source": [
        "import matplotlib.pyplot as plt\n",
        "import seaborn as sns\n",
        "\n",
        "# Calcular la frecuencia de cada ubicación\n",
        "frecuencia_ubicacion = df['ciudad'].value_counts()\n",
        "\n",
        "# Seleccionar las ubicaciones más frecuentes (por ejemplo, las 10 más comunes)\n",
        "ubicaciones_mas_frecuentes = frecuencia_ubicacion.head(5).index\n",
        "\n",
        "# Filtrar el DataFrame para incluir solo las ubicaciones más frecuentes\n",
        "df_filtrado = df[df['ciudad'].isin(ubicaciones_mas_frecuentes)]\n",
        "\n",
        "# Configurar tamaño de la figura\n",
        "plt.figure(figsize=(12, 6))\n",
        "\n",
        "# Definir una paleta de colores\n",
        "palette = sns.color_palette(\"hls\",len(ubicaciones_mas_frecuentes))\n",
        "\n",
        "# Graficar un boxplot de los precios por ubicación con colores diferentes\n",
        "sns.boxplot(data=df_filtrado, x='ciudad', y='renta', palette=palette)\n",
        "\n",
        "# Rotar las etiquetas del eje x para mayor legibilidad\n",
        "plt.xticks(rotation=45, ha='right')\n",
        "\n",
        "# Añadir título y etiquetas a los ejes\n",
        "plt.title('Comparación de precios por ubicación')\n",
        "plt.xlabel('Ubicación')\n",
        "plt.ylabel('Precio')\n",
        "\n",
        "# Mostrar el gráfico\n",
        "plt.show()\n"
      ]
    },
    {
      "cell_type": "markdown",
      "metadata": {
        "id": "KkF1uM2xmA09"
      },
      "source": [
        "##**VALORES ATÍPICOS**"
      ]
    },
    {
      "cell_type": "code",
      "execution_count": 138,
      "metadata": {
        "id": "b3CUJklsnA6t"
      },
      "outputs": [],
      "source": [
        "# Diccionario con DataFrames.\n",
        "Listadataframes = {\n",
        "    'Prediccion_Precio_Alquile': df}"
      ]
    },
    {
      "cell_type": "code",
      "execution_count": 139,
      "metadata": {
        "id": "NY3BXDvrm9P7"
      },
      "outputs": [],
      "source": [
        "def describe_numeric_variables(diccionario):\n",
        "    '''\n",
        "    Función para describir las variables numéricas de múltiples tablas en un diccionario.\n",
        "\n",
        "    Parameters:\n",
        "    - diccionario: Un diccionario donde las claves son nombres de tablas y los valores son DataFrames de Pandas.\n",
        "\n",
        "    Returns:\n",
        "    - Un DataFrame que contiene la descripción de las variables numéricas para todas las tablas.\n",
        "    '''\n",
        "    pd.set_option('display.float_format', lambda x: '%.2f' % x)\n",
        "    numeric_description = []\n",
        "\n",
        "    for tabla_nombre, tabla_dataframe in diccionario.items():\n",
        "        for col in tabla_dataframe.select_dtypes(include='number').columns:\n",
        "            s = tabla_dataframe[col]\n",
        "            numeric_description.append({\n",
        "                'Tabla': tabla_nombre,\n",
        "                'Índice': col,\n",
        "                'Nombre': col,\n",
        "                'Tipo de Dato': s.dtype,\n",
        "                'Máximo': s.max(),\n",
        "                'Mínimo': s.min(),\n",
        "                'Mediana': s.median(),\n",
        "                'Media': s.mean(),\n",
        "                'Desviación Estándar': s.std(),\n",
        "                'No Nulos': s.notnull().sum(),\n",
        "                'Valores Únicos': s.nunique(),\n",
        "                'Moda': s.mode()[0] if not s.mode().empty else None,\n",
        "                'Frecuencia_Moda': s.value_counts(dropna=True).iloc[0] if not s.mode().empty else np.NaN\n",
        "            })\n",
        "\n",
        "    numeric_df = pd.DataFrame(numeric_description)\n",
        "    return numeric_df"
      ]
    },
    {
      "cell_type": "code",
      "execution_count": 140,
      "metadata": {
        "colab": {
          "base_uri": "https://localhost:8080/",
          "height": 175
        },
        "id": "8pzytfXel_7R",
        "outputId": "b0a20e41-791e-420f-c0de-46faeb89c9b9"
      },
      "outputs": [
        {
          "data": {
            "text/html": [
              "<div>\n",
              "<style scoped>\n",
              "    .dataframe tbody tr th:only-of-type {\n",
              "        vertical-align: middle;\n",
              "    }\n",
              "\n",
              "    .dataframe tbody tr th {\n",
              "        vertical-align: top;\n",
              "    }\n",
              "\n",
              "    .dataframe thead th {\n",
              "        text-align: right;\n",
              "    }\n",
              "</style>\n",
              "<table border=\"1\" class=\"dataframe\">\n",
              "  <thead>\n",
              "    <tr style=\"text-align: right;\">\n",
              "      <th></th>\n",
              "      <th>Tabla</th>\n",
              "      <th>Índice</th>\n",
              "      <th>Nombre</th>\n",
              "      <th>Tipo de Dato</th>\n",
              "      <th>Máximo</th>\n",
              "      <th>Mínimo</th>\n",
              "      <th>Mediana</th>\n",
              "      <th>Media</th>\n",
              "      <th>Desviación Estándar</th>\n",
              "      <th>No Nulos</th>\n",
              "      <th>Valores Únicos</th>\n",
              "      <th>Moda</th>\n",
              "      <th>Frecuencia_Moda</th>\n",
              "    </tr>\n",
              "  </thead>\n",
              "  <tbody>\n",
              "    <tr>\n",
              "      <th>0</th>\n",
              "      <td>Prediccion_Precio_Alquile</td>\n",
              "      <td>habitaciones</td>\n",
              "      <td>habitaciones</td>\n",
              "      <td>int64</td>\n",
              "      <td>6</td>\n",
              "      <td>1</td>\n",
              "      <td>2.00</td>\n",
              "      <td>2.08</td>\n",
              "      <td>0.83</td>\n",
              "      <td>4746</td>\n",
              "      <td>6</td>\n",
              "      <td>2</td>\n",
              "      <td>2265</td>\n",
              "    </tr>\n",
              "    <tr>\n",
              "      <th>1</th>\n",
              "      <td>Prediccion_Precio_Alquile</td>\n",
              "      <td>renta</td>\n",
              "      <td>renta</td>\n",
              "      <td>int64</td>\n",
              "      <td>3500000</td>\n",
              "      <td>1200</td>\n",
              "      <td>16000.00</td>\n",
              "      <td>34993.45</td>\n",
              "      <td>78106.41</td>\n",
              "      <td>4746</td>\n",
              "      <td>243</td>\n",
              "      <td>15000</td>\n",
              "      <td>275</td>\n",
              "    </tr>\n",
              "    <tr>\n",
              "      <th>2</th>\n",
              "      <td>Prediccion_Precio_Alquile</td>\n",
              "      <td>tamaño</td>\n",
              "      <td>tamaño</td>\n",
              "      <td>int64</td>\n",
              "      <td>8000</td>\n",
              "      <td>10</td>\n",
              "      <td>850.00</td>\n",
              "      <td>967.49</td>\n",
              "      <td>634.20</td>\n",
              "      <td>4746</td>\n",
              "      <td>615</td>\n",
              "      <td>1000</td>\n",
              "      <td>240</td>\n",
              "    </tr>\n",
              "    <tr>\n",
              "      <th>3</th>\n",
              "      <td>Prediccion_Precio_Alquile</td>\n",
              "      <td>baños</td>\n",
              "      <td>baños</td>\n",
              "      <td>int64</td>\n",
              "      <td>10</td>\n",
              "      <td>1</td>\n",
              "      <td>2.00</td>\n",
              "      <td>1.97</td>\n",
              "      <td>0.88</td>\n",
              "      <td>4746</td>\n",
              "      <td>8</td>\n",
              "      <td>2</td>\n",
              "      <td>2291</td>\n",
              "    </tr>\n",
              "  </tbody>\n",
              "</table>\n",
              "</div>"
            ],
            "text/plain": [
              "                       Tabla        Índice        Nombre Tipo de Dato  \\\n",
              "0  Prediccion_Precio_Alquile  habitaciones  habitaciones        int64   \n",
              "1  Prediccion_Precio_Alquile         renta         renta        int64   \n",
              "2  Prediccion_Precio_Alquile        tamaño        tamaño        int64   \n",
              "3  Prediccion_Precio_Alquile         baños         baños        int64   \n",
              "\n",
              "    Máximo  Mínimo  Mediana    Media  Desviación Estándar  No Nulos  \\\n",
              "0        6       1     2.00     2.08                 0.83      4746   \n",
              "1  3500000    1200 16000.00 34993.45             78106.41      4746   \n",
              "2     8000      10   850.00   967.49               634.20      4746   \n",
              "3       10       1     2.00     1.97                 0.88      4746   \n",
              "\n",
              "   Valores Únicos   Moda  Frecuencia_Moda  \n",
              "0               6      2             2265  \n",
              "1             243  15000              275  \n",
              "2             615   1000              240  \n",
              "3               8      2             2291  "
            ]
          },
          "execution_count": 140,
          "metadata": {},
          "output_type": "execute_result"
        }
      ],
      "source": [
        "describe_numeric_variables(Listadataframes)"
      ]
    },
    {
      "cell_type": "code",
      "execution_count": 141,
      "metadata": {
        "id": "WKeLFKyqtSdo"
      },
      "outputs": [],
      "source": [
        "import pandas as pd\n",
        "import plotly.graph_objs as go\n",
        "from plotly.subplots import make_subplots\n",
        "import random\n",
        "\n",
        "def generate_boxplots(df):\n",
        "\n",
        "    numeric_cols = df.select_dtypes(include=['number']).columns.tolist()\n",
        "\n",
        "    if not numeric_cols:\n",
        "        print(\"No se encontraron columnas numéricas en el DataFrame.\")\n",
        "        return\n",
        "\n",
        "\n",
        "    colors = [f'#{random.randint(0, 0xFFFFFF):06x}' for _ in range(len(numeric_cols))]\n",
        "\n",
        "\n",
        "    n_cols = 3\n",
        "    n_rows = (len(numeric_cols) + n_cols - 1) // n_cols\n",
        "\n",
        "\n",
        "    fig = make_subplots(rows=n_rows, cols=n_cols, subplot_titles=numeric_cols)\n",
        "\n",
        "    for i, (col_name, color) in enumerate(zip(numeric_cols, colors)):\n",
        "        row = i // n_cols + 1\n",
        "        col = i % n_cols + 1\n",
        "\n",
        "\n",
        "        trace = go.Box(y=df[col_name], marker=dict(color=color))\n",
        "        fig.add_trace(trace, row=row, col=col)\n",
        "\n",
        "    fig.update_layout(height=300 * n_rows, width=600 * n_cols, title_text=\"Diagramas de Cajas\")\n",
        "\n",
        "    fig.show()"
      ]
    },
    {
      "cell_type": "code",
      "execution_count": 142,
      "metadata": {
        "colab": {
          "base_uri": "https://localhost:8080/",
          "height": 637
        },
        "id": "asL0ItwSrzBB",
        "outputId": "913c0400-3c39-4759-f596-b79dbba06c5b"
      },
      "outputs": [],
      "source": [
        "import plotly.io as pio\n",
        "pio.renderers.default = \"browser\"\n",
        "#pio.renderers.default = \"notebook\"\n",
        "generate_boxplots(df)"
      ]
    },
    {
      "cell_type": "markdown",
      "metadata": {
        "id": "wiVN9iUzwole"
      },
      "source": [
        "**Variable area**\n",
        "\n"
      ]
    },
    {
      "cell_type": "code",
      "execution_count": 143,
      "metadata": {
        "colab": {
          "base_uri": "https://localhost:8080/",
          "height": 417
        },
        "id": "jwHIPustyw20",
        "outputId": "1219e531-fb6c-45c3-c4e6-e464212752cb"
      },
      "outputs": [],
      "source": [
        "import plotly.graph_objects as go\n",
        "fig = go.Figure()\n",
        "fig.add_trace(go.Violin(x=df['tamaño'], line_color='lightseagreen', name='tamaño', y0=0))\n",
        "fig.update_traces(orientation='h', side='positive', meanline_visible=False)\n",
        "fig.update_layout(xaxis_showgrid=False, xaxis_zeroline=False, width=960, height=400, plot_bgcolor='white',title=\"Gráfico de Violín para la Variable 'tamaño'\")\n",
        "fig.show()"
      ]
    },
    {
      "cell_type": "code",
      "execution_count": 144,
      "metadata": {
        "colab": {
          "base_uri": "https://localhost:8080/",
          "height": 81
        },
        "id": "1caOIZxQwmhA",
        "outputId": "068b492e-d9ca-4acd-8f67-6b711ea6bcbe"
      },
      "outputs": [
        {
          "data": {
            "text/html": [
              "<div>\n",
              "<style scoped>\n",
              "    .dataframe tbody tr th:only-of-type {\n",
              "        vertical-align: middle;\n",
              "    }\n",
              "\n",
              "    .dataframe tbody tr th {\n",
              "        vertical-align: top;\n",
              "    }\n",
              "\n",
              "    .dataframe thead th {\n",
              "        text-align: right;\n",
              "    }\n",
              "</style>\n",
              "<table border=\"1\" class=\"dataframe\">\n",
              "  <thead>\n",
              "    <tr style=\"text-align: right;\">\n",
              "      <th></th>\n",
              "      <th>count</th>\n",
              "      <th>mean</th>\n",
              "      <th>std</th>\n",
              "      <th>min</th>\n",
              "      <th>50%</th>\n",
              "      <th>70%</th>\n",
              "      <th>80%</th>\n",
              "      <th>85%</th>\n",
              "      <th>90%</th>\n",
              "      <th>95%</th>\n",
              "      <th>max</th>\n",
              "    </tr>\n",
              "  </thead>\n",
              "  <tbody>\n",
              "    <tr>\n",
              "      <th>tamaño</th>\n",
              "      <td>4746.00</td>\n",
              "      <td>967.49</td>\n",
              "      <td>634.20</td>\n",
              "      <td>10.00</td>\n",
              "      <td>850.00</td>\n",
              "      <td>1100.00</td>\n",
              "      <td>1300.00</td>\n",
              "      <td>1500.00</td>\n",
              "      <td>1700.00</td>\n",
              "      <td>2000.00</td>\n",
              "      <td>8000.00</td>\n",
              "    </tr>\n",
              "  </tbody>\n",
              "</table>\n",
              "</div>"
            ],
            "text/plain": [
              "         count   mean    std   min    50%     70%     80%     85%     90%  \\\n",
              "tamaño 4746.00 967.49 634.20 10.00 850.00 1100.00 1300.00 1500.00 1700.00   \n",
              "\n",
              "           95%     max  \n",
              "tamaño 2000.00 8000.00  "
            ]
          },
          "execution_count": 144,
          "metadata": {},
          "output_type": "execute_result"
        }
      ],
      "source": [
        "df['tamaño'].describe(percentiles=[0.70,0.80,0.85,0.9,0.95]).to_frame().T"
      ]
    },
    {
      "cell_type": "markdown",
      "metadata": {
        "id": "BpnmBd2uVZeG"
      },
      "source": [
        "# RENTA"
      ]
    },
    {
      "cell_type": "code",
      "execution_count": 145,
      "metadata": {
        "colab": {
          "base_uri": "https://localhost:8080/",
          "height": 417
        },
        "id": "qNrGS7JEBJ5C",
        "outputId": "69f1a5bc-9984-4d16-fcc7-a92db6c6c472"
      },
      "outputs": [],
      "source": [
        "import plotly.graph_objects as go\n",
        "fig = go.Figure()\n",
        "fig.add_trace(go.Violin(x=df['renta'], line_color='yellowgreen', name='precio', y0=0))\n",
        "fig.update_traces(orientation='h', side='positive', meanline_visible=False)\n",
        "fig.update_layout(xaxis_showgrid=False, xaxis_zeroline=False, width=960, height=400, plot_bgcolor='white',title=\"Gráfico de Violín para la Variable 'precio'\")\n",
        "fig.show()"
      ]
    },
    {
      "cell_type": "code",
      "execution_count": 146,
      "metadata": {
        "colab": {
          "base_uri": "https://localhost:8080/",
          "height": 81
        },
        "id": "8ce8Pc6RBawr",
        "outputId": "120b91a8-ce09-4091-ea5c-a6611c1abb6a"
      },
      "outputs": [
        {
          "data": {
            "text/html": [
              "<div>\n",
              "<style scoped>\n",
              "    .dataframe tbody tr th:only-of-type {\n",
              "        vertical-align: middle;\n",
              "    }\n",
              "\n",
              "    .dataframe tbody tr th {\n",
              "        vertical-align: top;\n",
              "    }\n",
              "\n",
              "    .dataframe thead th {\n",
              "        text-align: right;\n",
              "    }\n",
              "</style>\n",
              "<table border=\"1\" class=\"dataframe\">\n",
              "  <thead>\n",
              "    <tr style=\"text-align: right;\">\n",
              "      <th></th>\n",
              "      <th>count</th>\n",
              "      <th>mean</th>\n",
              "      <th>std</th>\n",
              "      <th>min</th>\n",
              "      <th>50%</th>\n",
              "      <th>70%</th>\n",
              "      <th>80%</th>\n",
              "      <th>85%</th>\n",
              "      <th>90%</th>\n",
              "      <th>95%</th>\n",
              "      <th>max</th>\n",
              "    </tr>\n",
              "  </thead>\n",
              "  <tbody>\n",
              "    <tr>\n",
              "      <th>renta</th>\n",
              "      <td>4746.00</td>\n",
              "      <td>34993.45</td>\n",
              "      <td>78106.41</td>\n",
              "      <td>1200.00</td>\n",
              "      <td>16000.00</td>\n",
              "      <td>27000.00</td>\n",
              "      <td>40000.00</td>\n",
              "      <td>52000.00</td>\n",
              "      <td>72000.00</td>\n",
              "      <td>130000.00</td>\n",
              "      <td>3500000.00</td>\n",
              "    </tr>\n",
              "  </tbody>\n",
              "</table>\n",
              "</div>"
            ],
            "text/plain": [
              "        count     mean      std     min      50%      70%      80%      85%  \\\n",
              "renta 4746.00 34993.45 78106.41 1200.00 16000.00 27000.00 40000.00 52000.00   \n",
              "\n",
              "           90%       95%        max  \n",
              "renta 72000.00 130000.00 3500000.00  "
            ]
          },
          "execution_count": 146,
          "metadata": {},
          "output_type": "execute_result"
        }
      ],
      "source": [
        "df['renta'].describe(percentiles=[0.70,0.80,0.85,0.9,0.95]).to_frame().T"
      ]
    },
    {
      "cell_type": "code",
      "execution_count": 147,
      "metadata": {
        "id": "Vy3QK1vGBib4"
      },
      "outputs": [],
      "source": [
        "df_filter = df[(df['renta'] <= 130000.00)]"
      ]
    },
    {
      "cell_type": "code",
      "execution_count": 148,
      "metadata": {
        "colab": {
          "base_uri": "https://localhost:8080/"
        },
        "id": "B6I7SiT7BxPz",
        "outputId": "082ec2c8-579c-4b63-a429-9fe54060fae8"
      },
      "outputs": [
        {
          "name": "stdout",
          "output_type": "stream",
          "text": [
            "<class 'pandas.core.frame.DataFrame'>\n",
            "Index: 4526 entries, 0 to 4745\n",
            "Data columns (total 12 columns):\n",
            " #   Column               Non-Null Count  Dtype \n",
            "---  ------               --------------  ----- \n",
            " 0   fecha_publicacion    4526 non-null   object\n",
            " 1   habitaciones         4526 non-null   int64 \n",
            " 2   renta                4526 non-null   int64 \n",
            " 3   tamaño               4526 non-null   int64 \n",
            " 4   piso                 4526 non-null   object\n",
            " 5   tipo_area            4526 non-null   object\n",
            " 6   localidad            4526 non-null   object\n",
            " 7   ciudad               4526 non-null   object\n",
            " 8   estado_amueblado     4526 non-null   object\n",
            " 9   inquilino_preferido  4526 non-null   object\n",
            " 10  baños                4526 non-null   int64 \n",
            " 11  contacto             4526 non-null   object\n",
            "dtypes: int64(4), object(8)\n",
            "memory usage: 459.7+ KB\n"
          ]
        }
      ],
      "source": [
        "df_filter.info()"
      ]
    },
    {
      "cell_type": "code",
      "execution_count": 149,
      "metadata": {
        "colab": {
          "base_uri": "https://localhost:8080/",
          "height": 417
        },
        "id": "vJv2nrp3Br07",
        "outputId": "135461a7-9104-4144-c45b-ba211bf6b0ce"
      },
      "outputs": [],
      "source": [
        "import plotly.graph_objects as go\n",
        "fig = go.Figure()\n",
        "fig.add_trace(go.Violin(x=df_filter['renta'], line_color='salmon', name='precio', y0=0))\n",
        "fig.update_traces(orientation='h', side='positive', meanline_visible=False)\n",
        "fig.update_layout(xaxis_showgrid=False, xaxis_zeroline=False, width=960, height=400, plot_bgcolor='white',title=\"Gráfico de Violín para la Variable 'precio'\")\n",
        "fig.show()"
      ]
    },
    {
      "cell_type": "markdown",
      "metadata": {
        "id": "ucKS0pkdN7E6"
      },
      "source": [
        "# **Correlación entre variables numéricas**"
      ]
    },
    {
      "cell_type": "code",
      "execution_count": 150,
      "metadata": {
        "colab": {
          "base_uri": "https://localhost:8080/",
          "height": 175
        },
        "id": "bnPYhJ4bDXv6",
        "outputId": "43eed8c5-710b-478f-a576-a96e53517952"
      },
      "outputs": [
        {
          "data": {
            "text/html": [
              "<div>\n",
              "<style scoped>\n",
              "    .dataframe tbody tr th:only-of-type {\n",
              "        vertical-align: middle;\n",
              "    }\n",
              "\n",
              "    .dataframe tbody tr th {\n",
              "        vertical-align: top;\n",
              "    }\n",
              "\n",
              "    .dataframe thead th {\n",
              "        text-align: right;\n",
              "    }\n",
              "</style>\n",
              "<table border=\"1\" class=\"dataframe\">\n",
              "  <thead>\n",
              "    <tr style=\"text-align: right;\">\n",
              "      <th></th>\n",
              "      <th>habitaciones</th>\n",
              "      <th>renta</th>\n",
              "      <th>tamaño</th>\n",
              "      <th>baños</th>\n",
              "    </tr>\n",
              "  </thead>\n",
              "  <tbody>\n",
              "    <tr>\n",
              "      <th>habitaciones</th>\n",
              "      <td>100.00</td>\n",
              "      <td>44.16</td>\n",
              "      <td>70.52</td>\n",
              "      <td>77.29</td>\n",
              "    </tr>\n",
              "    <tr>\n",
              "      <th>renta</th>\n",
              "      <td>44.16</td>\n",
              "      <td>100.00</td>\n",
              "      <td>43.57</td>\n",
              "      <td>54.75</td>\n",
              "    </tr>\n",
              "    <tr>\n",
              "      <th>tamaño</th>\n",
              "      <td>70.52</td>\n",
              "      <td>43.57</td>\n",
              "      <td>100.00</td>\n",
              "      <td>69.86</td>\n",
              "    </tr>\n",
              "    <tr>\n",
              "      <th>baños</th>\n",
              "      <td>77.29</td>\n",
              "      <td>54.75</td>\n",
              "      <td>69.86</td>\n",
              "      <td>100.00</td>\n",
              "    </tr>\n",
              "  </tbody>\n",
              "</table>\n",
              "</div>"
            ],
            "text/plain": [
              "              habitaciones  renta  tamaño  baños\n",
              "habitaciones        100.00  44.16   70.52  77.29\n",
              "renta                44.16 100.00   43.57  54.75\n",
              "tamaño               70.52  43.57  100.00  69.86\n",
              "baños                77.29  54.75   69.86 100.00"
            ]
          },
          "execution_count": 150,
          "metadata": {},
          "output_type": "execute_result"
        }
      ],
      "source": [
        "dfhnum = df_filter.select_dtypes(include='number')\n",
        "cor = (dfhnum.corr()*100).round(2)\n",
        "cor"
      ]
    },
    {
      "cell_type": "code",
      "execution_count": 151,
      "metadata": {
        "colab": {
          "base_uri": "https://localhost:8080/",
          "height": 542
        },
        "id": "YvxzmX-BDc2h",
        "outputId": "c6c21cec-3c00-49b6-ebc3-6ef8c0fd973f"
      },
      "outputs": [],
      "source": [
        "import plotly.express as px\n",
        "import numpy as np\n",
        "\n",
        "mask = np.triu(np.ones_like(cor, dtype=bool))\n",
        "cor = cor.mask(mask)\n",
        "fig = px.imshow(cor, text_auto=True, width=640, color_continuous_scale='Jet', color_continuous_midpoint=0, title='Correlación')\n",
        "fig.update_layout(xaxis={'side': 'bottom'}, plot_bgcolor='white')\n",
        "fig.show()"
      ]
    },
    {
      "cell_type": "markdown",
      "metadata": {
        "id": "CBE1Id7YO1VU"
      },
      "source": [
        "**Análisis de la matriz de correlación**\n",
        "\n",
        "------------------------------------------------------"
      ]
    },
    {
      "cell_type": "markdown",
      "metadata": {
        "id": "dq_oV2c2EscG"
      },
      "source": [
        "# **Chi2**"
      ]
    },
    {
      "cell_type": "markdown",
      "metadata": {
        "id": "YbH_4XGlE0bZ"
      },
      "source": [
        "* $H_0 :$ No existe asociación significativa entre variables- Son -Independientes-.\n",
        "\n",
        "* $H_1 :$ Existe asociación significativa entre variables son-Dependientes-."
      ]
    },
    {
      "cell_type": "code",
      "execution_count": 152,
      "metadata": {
        "id": "kj8XvXqNFFFb"
      },
      "outputs": [],
      "source": [
        "dfhcat = df_filter.select_dtypes(include='object')"
      ]
    },
    {
      "cell_type": "code",
      "execution_count": 153,
      "metadata": {
        "colab": {
          "base_uri": "https://localhost:8080/"
        },
        "id": "DG85A_aRE4nQ",
        "outputId": "39931616-c58f-41c3-9f1c-4b9c05cd5670"
      },
      "outputs": [
        {
          "name": "stdout",
          "output_type": "stream",
          "text": [
            "\n",
            "Comparación entre: fecha_publicacion y renta\n",
            "Chi-cuadrado: 16972.2706\n",
            "p-value: 3.5506e-04\n",
            "Grados de libertad: 16353\n",
            "Resultado: Existe asociación significativa (rechazar H0)\n",
            "\n",
            "Comparación entre: piso y renta\n",
            "Chi-cuadrado: 159830.7216\n",
            "p-value: 0.0000e+00\n",
            "Grados de libertad: 84249\n",
            "Resultado: Existe asociación significativa (rechazar H0)\n",
            "\n",
            "Comparación entre: tipo_area y renta\n",
            "Chi-cuadrado: 843.5529\n",
            "p-value: 1.3576e-31\n",
            "Grados de libertad: 414\n",
            "Resultado: Existe asociación significativa (rechazar H0)\n",
            "\n",
            "Comparación entre: localidad y renta\n",
            "Chi-cuadrado: 466507.5932\n",
            "p-value: 6.2881e-158\n",
            "Grados de libertad: 440910\n",
            "Resultado: Existe asociación significativa (rechazar H0)\n",
            "\n",
            "Comparación entre: ciudad y renta\n",
            "Chi-cuadrado: 2855.6425\n",
            "p-value: 5.5650e-170\n",
            "Grados de libertad: 1035\n",
            "Resultado: Existe asociación significativa (rechazar H0)\n",
            "\n",
            "Comparación entre: estado_amueblado y renta\n",
            "Chi-cuadrado: 863.7969\n",
            "p-value: 7.0643e-34\n",
            "Grados de libertad: 414\n",
            "Resultado: Existe asociación significativa (rechazar H0)\n",
            "\n",
            "Comparación entre: inquilino_preferido y renta\n",
            "Chi-cuadrado: 677.4942\n",
            "p-value: 4.9223e-15\n",
            "Grados de libertad: 414\n",
            "Resultado: Existe asociación significativa (rechazar H0)\n",
            "\n",
            "Comparación entre: contacto y renta\n",
            "Chi-cuadrado: 2045.9306\n",
            "p-value: 1.2957e-213\n",
            "Grados de libertad: 414\n",
            "Resultado: Existe asociación significativa (rechazar H0)\n"
          ]
        }
      ],
      "source": [
        "from scipy.stats import chi2_contingency\n",
        "import pandas as pd\n",
        "\n",
        "def chi_square_test(df, target_var):\n",
        "    for column in df.columns:\n",
        "        if column != target_var:\n",
        "            contingency_table = pd.crosstab(df_filter[column], df_filter[target_var])\n",
        "            chi2, p_value, dof, expected_freq = chi2_contingency(contingency_table)\n",
        "\n",
        "            print(f\"\\nComparación entre: {column} y {target_var}\")\n",
        "            print(f\"Chi-cuadrado: {chi2:.4f}\")\n",
        "            print(f\"p-value: {p_value:.4e}\")\n",
        "            print(f\"Grados de libertad: {dof}\")\n",
        "\n",
        "            if p_value < 0.05:\n",
        "\n",
        "                print(\"Resultado: Existe asociación significativa (rechazar H0)\")\n",
        "            else:\n",
        "                print(\"Resultado: No hay suficiente evidencia para decir que las variables están asociadas (no rechazar H0)\")\n",
        "\n",
        "chi_square_test(dfhcat, 'renta')"
      ]
    },
    {
      "cell_type": "code",
      "execution_count": 154,
      "metadata": {
        "colab": {
          "base_uri": "https://localhost:8080/"
        },
        "id": "-yRC1YXoVz-I",
        "outputId": "e66a75da-c796-4fbf-b97c-661645699191"
      },
      "outputs": [
        {
          "name": "stdout",
          "output_type": "stream",
          "text": [
            "<class 'pandas.core.frame.DataFrame'>\n",
            "RangeIndex: 4746 entries, 0 to 4745\n",
            "Data columns (total 12 columns):\n",
            " #   Column               Non-Null Count  Dtype \n",
            "---  ------               --------------  ----- \n",
            " 0   fecha_publicacion    4746 non-null   object\n",
            " 1   habitaciones         4746 non-null   int64 \n",
            " 2   renta                4746 non-null   int64 \n",
            " 3   tamaño               4746 non-null   int64 \n",
            " 4   piso                 4746 non-null   object\n",
            " 5   tipo_area            4746 non-null   object\n",
            " 6   localidad            4746 non-null   object\n",
            " 7   ciudad               4746 non-null   object\n",
            " 8   estado_amueblado     4746 non-null   object\n",
            " 9   inquilino_preferido  4746 non-null   object\n",
            " 10  baños                4746 non-null   int64 \n",
            " 11  contacto             4746 non-null   object\n",
            "dtypes: int64(4), object(8)\n",
            "memory usage: 445.1+ KB\n"
          ]
        }
      ],
      "source": [
        "df.info()"
      ]
    },
    {
      "cell_type": "code",
      "execution_count": 155,
      "metadata": {
        "id": "iGxy29cqJisy"
      },
      "outputs": [],
      "source": [
        "columns=['fecha_publicacion', 'localidad', 'piso']"
      ]
    },
    {
      "cell_type": "code",
      "execution_count": 156,
      "metadata": {
        "id": "bshh85VDJZ41"
      },
      "outputs": [],
      "source": [
        "df_filter2= df_filter.drop(columns=['fecha_publicacion', 'localidad', 'piso'])"
      ]
    },
    {
      "cell_type": "code",
      "execution_count": 157,
      "metadata": {
        "colab": {
          "base_uri": "https://localhost:8080/"
        },
        "id": "4abAvmh-J97B",
        "outputId": "f4330369-efc5-42e5-d620-b9a36a48d015"
      },
      "outputs": [
        {
          "data": {
            "text/plain": [
              "Index(['habitaciones', 'renta', 'tamaño', 'tipo_area', 'ciudad',\n",
              "       'estado_amueblado', 'inquilino_preferido', 'baños', 'contacto'],\n",
              "      dtype='object')"
            ]
          },
          "execution_count": 157,
          "metadata": {},
          "output_type": "execute_result"
        }
      ],
      "source": [
        "df_filter2.columns"
      ]
    },
    {
      "cell_type": "markdown",
      "metadata": {
        "id": "0WTVo9CFJNZs"
      },
      "source": [
        "#**ANOVA**"
      ]
    },
    {
      "cell_type": "code",
      "execution_count": 158,
      "metadata": {
        "id": "eXAFpDeEKFxO"
      },
      "outputs": [],
      "source": [
        "dfhcat = df_filter2.select_dtypes(include='object')"
      ]
    },
    {
      "cell_type": "code",
      "execution_count": 159,
      "metadata": {
        "colab": {
          "base_uri": "https://localhost:8080/"
        },
        "id": "6prbvBviJRJz",
        "outputId": "38949470-dc16-4a6a-e5e5-9627baebd5c6"
      },
      "outputs": [
        {
          "data": {
            "text/plain": [
              "{'tipo_area': F_onewayResult(statistic=np.float64(291.5652162467955), pvalue=np.float64(7.895624523651076e-120)),\n",
              " 'ciudad': F_onewayResult(statistic=np.float64(379.68856109257547), pvalue=np.float64(0.0)),\n",
              " 'estado_amueblado': F_onewayResult(statistic=np.float64(123.04028126781476), pvalue=np.float64(9.273573170361388e-53)),\n",
              " 'inquilino_preferido': F_onewayResult(statistic=np.float64(53.23194483939408), pvalue=np.float64(1.4110684987271616e-23)),\n",
              " 'contacto': F_onewayResult(statistic=np.float64(1141.9741142176217), pvalue=np.float64(0.0))}"
            ]
          },
          "execution_count": 159,
          "metadata": {},
          "output_type": "execute_result"
        }
      ],
      "source": [
        "import scipy.stats as stats\n",
        "\n",
        "anova_results = {}\n",
        "\n",
        "for category in dfhcat:\n",
        "    grouped_data = df_filter[['renta', category]].groupby(category)\n",
        "    anova = stats.f_oneway(*[group['renta'] for name, group in grouped_data])\n",
        "    anova_results[category] = anova\n",
        "\n",
        "anova_results"
      ]
    },
    {
      "cell_type": "code",
      "execution_count": null,
      "metadata": {
        "id": "cPgESfj8Vo9A"
      },
      "outputs": [],
      "source": []
    },
    {
      "cell_type": "markdown",
      "metadata": {
        "id": "vja1k_TEKYaf"
      },
      "source": [
        "# **¿Existe Multicolinealidad en los Features?**"
      ]
    },
    {
      "cell_type": "markdown",
      "metadata": {
        "id": "UjwgpxQYcg4M"
      },
      "source": [
        "**Convertir variables categóricas a Dummies**"
      ]
    },
    {
      "cell_type": "code",
      "execution_count": 160,
      "metadata": {
        "id": "PhUuBRtfbU8u"
      },
      "outputs": [],
      "source": [
        "columns_cat=['ciudad','estado_amueblado','contacto','inquilino_preferido']"
      ]
    },
    {
      "cell_type": "code",
      "execution_count": 161,
      "metadata": {
        "id": "erADoAPLK2Rg"
      },
      "outputs": [],
      "source": [
        "def convertir_a_dummies(df, columnas_categoricas):\n",
        "    dummies = pd.get_dummies(df[columnas_categoricas], prefix=columnas_categoricas, drop_first=True)\n",
        "    df = pd.concat([df, dummies], axis=1)\n",
        "    df = df.drop(columnas_categoricas, axis=1)\n",
        "    return df"
      ]
    },
    {
      "cell_type": "code",
      "execution_count": 162,
      "metadata": {
        "id": "bGVjTsCFgRbp"
      },
      "outputs": [],
      "source": [
        "import pandas as pd\n",
        "\n",
        "def convertir_a_dummies(df, columnas_categoricas):\n",
        "    dummies = pd.get_dummies(df[columnas_categoricas], prefix=columnas_categoricas, drop_first=True)\n",
        "    dummies = dummies.astype(int)\n",
        "    df = pd.concat([df, dummies], axis=1)\n",
        "    df = df.drop(columnas_categoricas, axis=1)\n",
        "    return df"
      ]
    },
    {
      "cell_type": "code",
      "execution_count": 163,
      "metadata": {
        "id": "DYwVUUvHK6cw"
      },
      "outputs": [],
      "source": [
        "df_filter_dummy = convertir_a_dummies(df_filter2, columns_cat)"
      ]
    },
    {
      "cell_type": "code",
      "execution_count": 164,
      "metadata": {
        "colab": {
          "base_uri": "https://localhost:8080/",
          "height": 634
        },
        "id": "VCE0GPI2cbGz",
        "outputId": "8b267490-3d34-4145-d332-8d44a9cc0602"
      },
      "outputs": [
        {
          "data": {
            "text/html": [
              "<div>\n",
              "<style scoped>\n",
              "    .dataframe tbody tr th:only-of-type {\n",
              "        vertical-align: middle;\n",
              "    }\n",
              "\n",
              "    .dataframe tbody tr th {\n",
              "        vertical-align: top;\n",
              "    }\n",
              "\n",
              "    .dataframe thead th {\n",
              "        text-align: right;\n",
              "    }\n",
              "</style>\n",
              "<table border=\"1\" class=\"dataframe\">\n",
              "  <thead>\n",
              "    <tr style=\"text-align: right;\">\n",
              "      <th></th>\n",
              "      <th>habitaciones</th>\n",
              "      <th>renta</th>\n",
              "      <th>tamaño</th>\n",
              "      <th>tipo_area</th>\n",
              "      <th>baños</th>\n",
              "      <th>ciudad_Chennai</th>\n",
              "      <th>ciudad_Delhi</th>\n",
              "      <th>ciudad_Hyderabad</th>\n",
              "      <th>ciudad_Kolkata</th>\n",
              "      <th>ciudad_Mumbai</th>\n",
              "      <th>estado_amueblado_Semi-Furnished</th>\n",
              "      <th>estado_amueblado_Unfurnished</th>\n",
              "      <th>contacto_Contact Builder</th>\n",
              "      <th>contacto_Contact Owner</th>\n",
              "      <th>inquilino_preferido_Bachelors/Family</th>\n",
              "      <th>inquilino_preferido_Family</th>\n",
              "    </tr>\n",
              "  </thead>\n",
              "  <tbody>\n",
              "    <tr>\n",
              "      <th>0</th>\n",
              "      <td>2</td>\n",
              "      <td>10000</td>\n",
              "      <td>1100</td>\n",
              "      <td>Super Area</td>\n",
              "      <td>2</td>\n",
              "      <td>0</td>\n",
              "      <td>0</td>\n",
              "      <td>0</td>\n",
              "      <td>1</td>\n",
              "      <td>0</td>\n",
              "      <td>0</td>\n",
              "      <td>1</td>\n",
              "      <td>0</td>\n",
              "      <td>1</td>\n",
              "      <td>1</td>\n",
              "      <td>0</td>\n",
              "    </tr>\n",
              "    <tr>\n",
              "      <th>1</th>\n",
              "      <td>2</td>\n",
              "      <td>20000</td>\n",
              "      <td>800</td>\n",
              "      <td>Super Area</td>\n",
              "      <td>1</td>\n",
              "      <td>0</td>\n",
              "      <td>0</td>\n",
              "      <td>0</td>\n",
              "      <td>1</td>\n",
              "      <td>0</td>\n",
              "      <td>1</td>\n",
              "      <td>0</td>\n",
              "      <td>0</td>\n",
              "      <td>1</td>\n",
              "      <td>1</td>\n",
              "      <td>0</td>\n",
              "    </tr>\n",
              "    <tr>\n",
              "      <th>2</th>\n",
              "      <td>2</td>\n",
              "      <td>17000</td>\n",
              "      <td>1000</td>\n",
              "      <td>Super Area</td>\n",
              "      <td>1</td>\n",
              "      <td>0</td>\n",
              "      <td>0</td>\n",
              "      <td>0</td>\n",
              "      <td>1</td>\n",
              "      <td>0</td>\n",
              "      <td>1</td>\n",
              "      <td>0</td>\n",
              "      <td>0</td>\n",
              "      <td>1</td>\n",
              "      <td>1</td>\n",
              "      <td>0</td>\n",
              "    </tr>\n",
              "    <tr>\n",
              "      <th>3</th>\n",
              "      <td>2</td>\n",
              "      <td>10000</td>\n",
              "      <td>800</td>\n",
              "      <td>Super Area</td>\n",
              "      <td>1</td>\n",
              "      <td>0</td>\n",
              "      <td>0</td>\n",
              "      <td>0</td>\n",
              "      <td>1</td>\n",
              "      <td>0</td>\n",
              "      <td>0</td>\n",
              "      <td>1</td>\n",
              "      <td>0</td>\n",
              "      <td>1</td>\n",
              "      <td>1</td>\n",
              "      <td>0</td>\n",
              "    </tr>\n",
              "    <tr>\n",
              "      <th>4</th>\n",
              "      <td>2</td>\n",
              "      <td>7500</td>\n",
              "      <td>850</td>\n",
              "      <td>Carpet Area</td>\n",
              "      <td>1</td>\n",
              "      <td>0</td>\n",
              "      <td>0</td>\n",
              "      <td>0</td>\n",
              "      <td>1</td>\n",
              "      <td>0</td>\n",
              "      <td>0</td>\n",
              "      <td>1</td>\n",
              "      <td>0</td>\n",
              "      <td>1</td>\n",
              "      <td>0</td>\n",
              "      <td>0</td>\n",
              "    </tr>\n",
              "    <tr>\n",
              "      <th>...</th>\n",
              "      <td>...</td>\n",
              "      <td>...</td>\n",
              "      <td>...</td>\n",
              "      <td>...</td>\n",
              "      <td>...</td>\n",
              "      <td>...</td>\n",
              "      <td>...</td>\n",
              "      <td>...</td>\n",
              "      <td>...</td>\n",
              "      <td>...</td>\n",
              "      <td>...</td>\n",
              "      <td>...</td>\n",
              "      <td>...</td>\n",
              "      <td>...</td>\n",
              "      <td>...</td>\n",
              "      <td>...</td>\n",
              "    </tr>\n",
              "    <tr>\n",
              "      <th>4741</th>\n",
              "      <td>2</td>\n",
              "      <td>15000</td>\n",
              "      <td>1000</td>\n",
              "      <td>Carpet Area</td>\n",
              "      <td>2</td>\n",
              "      <td>0</td>\n",
              "      <td>0</td>\n",
              "      <td>1</td>\n",
              "      <td>0</td>\n",
              "      <td>0</td>\n",
              "      <td>1</td>\n",
              "      <td>0</td>\n",
              "      <td>0</td>\n",
              "      <td>1</td>\n",
              "      <td>1</td>\n",
              "      <td>0</td>\n",
              "    </tr>\n",
              "    <tr>\n",
              "      <th>4742</th>\n",
              "      <td>3</td>\n",
              "      <td>29000</td>\n",
              "      <td>2000</td>\n",
              "      <td>Super Area</td>\n",
              "      <td>3</td>\n",
              "      <td>0</td>\n",
              "      <td>0</td>\n",
              "      <td>1</td>\n",
              "      <td>0</td>\n",
              "      <td>0</td>\n",
              "      <td>1</td>\n",
              "      <td>0</td>\n",
              "      <td>0</td>\n",
              "      <td>1</td>\n",
              "      <td>1</td>\n",
              "      <td>0</td>\n",
              "    </tr>\n",
              "    <tr>\n",
              "      <th>4743</th>\n",
              "      <td>3</td>\n",
              "      <td>35000</td>\n",
              "      <td>1750</td>\n",
              "      <td>Carpet Area</td>\n",
              "      <td>3</td>\n",
              "      <td>0</td>\n",
              "      <td>0</td>\n",
              "      <td>1</td>\n",
              "      <td>0</td>\n",
              "      <td>0</td>\n",
              "      <td>1</td>\n",
              "      <td>0</td>\n",
              "      <td>0</td>\n",
              "      <td>0</td>\n",
              "      <td>1</td>\n",
              "      <td>0</td>\n",
              "    </tr>\n",
              "    <tr>\n",
              "      <th>4744</th>\n",
              "      <td>3</td>\n",
              "      <td>45000</td>\n",
              "      <td>1500</td>\n",
              "      <td>Carpet Area</td>\n",
              "      <td>2</td>\n",
              "      <td>0</td>\n",
              "      <td>0</td>\n",
              "      <td>1</td>\n",
              "      <td>0</td>\n",
              "      <td>0</td>\n",
              "      <td>1</td>\n",
              "      <td>0</td>\n",
              "      <td>0</td>\n",
              "      <td>0</td>\n",
              "      <td>0</td>\n",
              "      <td>1</td>\n",
              "    </tr>\n",
              "    <tr>\n",
              "      <th>4745</th>\n",
              "      <td>2</td>\n",
              "      <td>15000</td>\n",
              "      <td>1000</td>\n",
              "      <td>Carpet Area</td>\n",
              "      <td>2</td>\n",
              "      <td>0</td>\n",
              "      <td>0</td>\n",
              "      <td>1</td>\n",
              "      <td>0</td>\n",
              "      <td>0</td>\n",
              "      <td>0</td>\n",
              "      <td>1</td>\n",
              "      <td>0</td>\n",
              "      <td>1</td>\n",
              "      <td>0</td>\n",
              "      <td>0</td>\n",
              "    </tr>\n",
              "  </tbody>\n",
              "</table>\n",
              "<p>4526 rows × 16 columns</p>\n",
              "</div>"
            ],
            "text/plain": [
              "      habitaciones  renta  tamaño    tipo_area  baños  ciudad_Chennai  \\\n",
              "0                2  10000    1100   Super Area      2               0   \n",
              "1                2  20000     800   Super Area      1               0   \n",
              "2                2  17000    1000   Super Area      1               0   \n",
              "3                2  10000     800   Super Area      1               0   \n",
              "4                2   7500     850  Carpet Area      1               0   \n",
              "...            ...    ...     ...          ...    ...             ...   \n",
              "4741             2  15000    1000  Carpet Area      2               0   \n",
              "4742             3  29000    2000   Super Area      3               0   \n",
              "4743             3  35000    1750  Carpet Area      3               0   \n",
              "4744             3  45000    1500  Carpet Area      2               0   \n",
              "4745             2  15000    1000  Carpet Area      2               0   \n",
              "\n",
              "      ciudad_Delhi  ciudad_Hyderabad  ciudad_Kolkata  ciudad_Mumbai  \\\n",
              "0                0                 0               1              0   \n",
              "1                0                 0               1              0   \n",
              "2                0                 0               1              0   \n",
              "3                0                 0               1              0   \n",
              "4                0                 0               1              0   \n",
              "...            ...               ...             ...            ...   \n",
              "4741             0                 1               0              0   \n",
              "4742             0                 1               0              0   \n",
              "4743             0                 1               0              0   \n",
              "4744             0                 1               0              0   \n",
              "4745             0                 1               0              0   \n",
              "\n",
              "      estado_amueblado_Semi-Furnished  estado_amueblado_Unfurnished  \\\n",
              "0                                   0                             1   \n",
              "1                                   1                             0   \n",
              "2                                   1                             0   \n",
              "3                                   0                             1   \n",
              "4                                   0                             1   \n",
              "...                               ...                           ...   \n",
              "4741                                1                             0   \n",
              "4742                                1                             0   \n",
              "4743                                1                             0   \n",
              "4744                                1                             0   \n",
              "4745                                0                             1   \n",
              "\n",
              "      contacto_Contact Builder  contacto_Contact Owner  \\\n",
              "0                            0                       1   \n",
              "1                            0                       1   \n",
              "2                            0                       1   \n",
              "3                            0                       1   \n",
              "4                            0                       1   \n",
              "...                        ...                     ...   \n",
              "4741                         0                       1   \n",
              "4742                         0                       1   \n",
              "4743                         0                       0   \n",
              "4744                         0                       0   \n",
              "4745                         0                       1   \n",
              "\n",
              "      inquilino_preferido_Bachelors/Family  inquilino_preferido_Family  \n",
              "0                                        1                           0  \n",
              "1                                        1                           0  \n",
              "2                                        1                           0  \n",
              "3                                        1                           0  \n",
              "4                                        0                           0  \n",
              "...                                    ...                         ...  \n",
              "4741                                     1                           0  \n",
              "4742                                     1                           0  \n",
              "4743                                     1                           0  \n",
              "4744                                     0                           1  \n",
              "4745                                     0                           0  \n",
              "\n",
              "[4526 rows x 16 columns]"
            ]
          },
          "execution_count": 164,
          "metadata": {},
          "output_type": "execute_result"
        }
      ],
      "source": [
        "df_filter_dummy"
      ]
    },
    {
      "cell_type": "code",
      "execution_count": 165,
      "metadata": {
        "colab": {
          "base_uri": "https://localhost:8080/"
        },
        "id": "pKGN33Zme6RV",
        "outputId": "d820dab9-5052-494c-db09-7dcffeabe551"
      },
      "outputs": [
        {
          "name": "stdout",
          "output_type": "stream",
          "text": [
            "<class 'pandas.core.frame.DataFrame'>\n",
            "Index: 4526 entries, 0 to 4745\n",
            "Data columns (total 16 columns):\n",
            " #   Column                                Non-Null Count  Dtype \n",
            "---  ------                                --------------  ----- \n",
            " 0   habitaciones                          4526 non-null   int64 \n",
            " 1   renta                                 4526 non-null   int64 \n",
            " 2   tamaño                                4526 non-null   int64 \n",
            " 3   tipo_area                             4526 non-null   object\n",
            " 4   baños                                 4526 non-null   int64 \n",
            " 5   ciudad_Chennai                        4526 non-null   int64 \n",
            " 6   ciudad_Delhi                          4526 non-null   int64 \n",
            " 7   ciudad_Hyderabad                      4526 non-null   int64 \n",
            " 8   ciudad_Kolkata                        4526 non-null   int64 \n",
            " 9   ciudad_Mumbai                         4526 non-null   int64 \n",
            " 10  estado_amueblado_Semi-Furnished       4526 non-null   int64 \n",
            " 11  estado_amueblado_Unfurnished          4526 non-null   int64 \n",
            " 12  contacto_Contact Builder              4526 non-null   int64 \n",
            " 13  contacto_Contact Owner                4526 non-null   int64 \n",
            " 14  inquilino_preferido_Bachelors/Family  4526 non-null   int64 \n",
            " 15  inquilino_preferido_Family            4526 non-null   int64 \n",
            "dtypes: int64(15), object(1)\n",
            "memory usage: 601.1+ KB\n"
          ]
        }
      ],
      "source": [
        "df_filter_dummy.info(verbose=True)"
      ]
    },
    {
      "cell_type": "markdown",
      "metadata": {
        "id": "TtUw6kZ9erjq"
      },
      "source": [
        "# **Factor de inflación de la varianza (VIF)**"
      ]
    },
    {
      "cell_type": "code",
      "execution_count": 166,
      "metadata": {
        "colab": {
          "base_uri": "https://localhost:8080/"
        },
        "id": "ee41WeQDvCxd",
        "outputId": "39edbe8e-ec4b-471c-c4bc-67149537603f"
      },
      "outputs": [
        {
          "data": {
            "text/plain": [
              "Index(['habitaciones', 'renta', 'tamaño', 'tipo_area', 'baños',\n",
              "       'ciudad_Chennai', 'ciudad_Delhi', 'ciudad_Hyderabad', 'ciudad_Kolkata',\n",
              "       'ciudad_Mumbai', 'estado_amueblado_Semi-Furnished',\n",
              "       'estado_amueblado_Unfurnished', 'contacto_Contact Builder',\n",
              "       'contacto_Contact Owner', 'inquilino_preferido_Bachelors/Family',\n",
              "       'inquilino_preferido_Family'],\n",
              "      dtype='object')"
            ]
          },
          "execution_count": 166,
          "metadata": {},
          "output_type": "execute_result"
        }
      ],
      "source": [
        "df_filter_dummy.columns"
      ]
    },
    {
      "cell_type": "code",
      "execution_count": 167,
      "metadata": {
        "colab": {
          "base_uri": "https://localhost:8080/"
        },
        "id": "NwfHyrOWZV9k",
        "outputId": "a3af42d8-46ed-4fda-aa38-9094401fc23b"
      },
      "outputs": [
        {
          "name": "stdout",
          "output_type": "stream",
          "text": [
            "<class 'pandas.core.frame.DataFrame'>\n",
            "Index: 4526 entries, 0 to 4745\n",
            "Data columns (total 16 columns):\n",
            " #   Column                                Non-Null Count  Dtype \n",
            "---  ------                                --------------  ----- \n",
            " 0   habitaciones                          4526 non-null   int64 \n",
            " 1   renta                                 4526 non-null   int64 \n",
            " 2   tamaño                                4526 non-null   int64 \n",
            " 3   tipo_area                             4526 non-null   object\n",
            " 4   baños                                 4526 non-null   int64 \n",
            " 5   ciudad_Chennai                        4526 non-null   int64 \n",
            " 6   ciudad_Delhi                          4526 non-null   int64 \n",
            " 7   ciudad_Hyderabad                      4526 non-null   int64 \n",
            " 8   ciudad_Kolkata                        4526 non-null   int64 \n",
            " 9   ciudad_Mumbai                         4526 non-null   int64 \n",
            " 10  estado_amueblado_Semi-Furnished       4526 non-null   int64 \n",
            " 11  estado_amueblado_Unfurnished          4526 non-null   int64 \n",
            " 12  contacto_Contact Builder              4526 non-null   int64 \n",
            " 13  contacto_Contact Owner                4526 non-null   int64 \n",
            " 14  inquilino_preferido_Bachelors/Family  4526 non-null   int64 \n",
            " 15  inquilino_preferido_Family            4526 non-null   int64 \n",
            "dtypes: int64(15), object(1)\n",
            "memory usage: 601.1+ KB\n"
          ]
        }
      ],
      "source": [
        "df_filter_dummy.info()"
      ]
    },
    {
      "cell_type": "code",
      "execution_count": 168,
      "metadata": {
        "id": "7Ue6yNPVuRKF"
      },
      "outputs": [],
      "source": [
        "columns_num=['renta', 'habitaciones','tamaño', 'baños']"
      ]
    },
    {
      "cell_type": "code",
      "execution_count": 169,
      "metadata": {
        "id": "HXhmR_sRc40D"
      },
      "outputs": [],
      "source": [
        "predictor_columns_num = df_filter_dummy[columns_num]"
      ]
    },
    {
      "cell_type": "code",
      "execution_count": 170,
      "metadata": {
        "colab": {
          "base_uri": "https://localhost:8080/"
        },
        "id": "aJdrKhQIdvXI",
        "outputId": "0ca09672-647d-4076-f072-e04ccb7baebc"
      },
      "outputs": [
        {
          "name": "stdout",
          "output_type": "stream",
          "text": [
            "<class 'pandas.core.frame.DataFrame'>\n",
            "Index: 4526 entries, 0 to 4745\n",
            "Data columns (total 4 columns):\n",
            " #   Column        Non-Null Count  Dtype\n",
            "---  ------        --------------  -----\n",
            " 0   renta         4526 non-null   int64\n",
            " 1   habitaciones  4526 non-null   int64\n",
            " 2   tamaño        4526 non-null   int64\n",
            " 3   baños         4526 non-null   int64\n",
            "dtypes: int64(4)\n",
            "memory usage: 176.8 KB\n"
          ]
        }
      ],
      "source": [
        "predictor_columns_num.info()"
      ]
    },
    {
      "cell_type": "code",
      "execution_count": 171,
      "metadata": {
        "colab": {
          "base_uri": "https://localhost:8080/"
        },
        "id": "zy1a7YQMcwLL",
        "outputId": "979ed9a0-b32a-4a57-b00a-fb5ba92eb6d1"
      },
      "outputs": [
        {
          "name": "stdout",
          "output_type": "stream",
          "text": [
            "       variable  VIF\n",
            "0         const 8.59\n",
            "1         renta 1.44\n",
            "2  habitaciones 2.86\n",
            "3        tamaño 2.27\n",
            "4         baños 3.13\n"
          ]
        }
      ],
      "source": [
        "import statsmodels.api as sm\n",
        "from statsmodels.stats.outliers_influence import variance_inflation_factor\n",
        "import pandas as pd\n",
        "\n",
        "X = sm.add_constant(df_filter_dummy[columns_num])\n",
        "\n",
        "vif_df = pd.DataFrame()\n",
        "vif_df['variable'] = X.columns\n",
        "vif_df['VIF'] = [variance_inflation_factor(X.values, i) for i in range(X.shape[1])]\n",
        "\n",
        "print(vif_df)\n"
      ]
    },
    {
      "cell_type": "markdown",
      "metadata": {
        "id": "0m7wQOXyAjj1"
      },
      "source": [
        "# **Heterocedasticidad**"
      ]
    },
    {
      "cell_type": "code",
      "execution_count": 172,
      "metadata": {
        "id": "snjlJ9qDu4u9"
      },
      "outputs": [
        {
          "ename": "KeyError",
          "evalue": "\"None of [Index(['ciudad', 'estado_amueblado', 'contacto', 'inquilino_preferido'], dtype='object')] are in the [columns]\"",
          "output_type": "error",
          "traceback": [
            "\u001b[1;31m---------------------------------------------------------------------------\u001b[0m",
            "\u001b[1;31mKeyError\u001b[0m                                  Traceback (most recent call last)",
            "Cell \u001b[1;32mIn[172], line 1\u001b[0m\n\u001b[1;32m----> 1\u001b[0m predictor_columns_cat \u001b[38;5;241m=\u001b[39m \u001b[43mdf_filter_dummy\u001b[49m\u001b[43m[\u001b[49m\u001b[43mcolumns_cat\u001b[49m\u001b[43m]\u001b[49m\n",
            "File \u001b[1;32mc:\\Users\\USER\\AppData\\Local\\Programs\\Python\\Python312\\Lib\\site-packages\\pandas\\core\\frame.py:4108\u001b[0m, in \u001b[0;36mDataFrame.__getitem__\u001b[1;34m(self, key)\u001b[0m\n\u001b[0;32m   4106\u001b[0m     \u001b[38;5;28;01mif\u001b[39;00m is_iterator(key):\n\u001b[0;32m   4107\u001b[0m         key \u001b[38;5;241m=\u001b[39m \u001b[38;5;28mlist\u001b[39m(key)\n\u001b[1;32m-> 4108\u001b[0m     indexer \u001b[38;5;241m=\u001b[39m \u001b[38;5;28;43mself\u001b[39;49m\u001b[38;5;241;43m.\u001b[39;49m\u001b[43mcolumns\u001b[49m\u001b[38;5;241;43m.\u001b[39;49m\u001b[43m_get_indexer_strict\u001b[49m\u001b[43m(\u001b[49m\u001b[43mkey\u001b[49m\u001b[43m,\u001b[49m\u001b[43m \u001b[49m\u001b[38;5;124;43m\"\u001b[39;49m\u001b[38;5;124;43mcolumns\u001b[39;49m\u001b[38;5;124;43m\"\u001b[39;49m\u001b[43m)\u001b[49m[\u001b[38;5;241m1\u001b[39m]\n\u001b[0;32m   4110\u001b[0m \u001b[38;5;66;03m# take() does not accept boolean indexers\u001b[39;00m\n\u001b[0;32m   4111\u001b[0m \u001b[38;5;28;01mif\u001b[39;00m \u001b[38;5;28mgetattr\u001b[39m(indexer, \u001b[38;5;124m\"\u001b[39m\u001b[38;5;124mdtype\u001b[39m\u001b[38;5;124m\"\u001b[39m, \u001b[38;5;28;01mNone\u001b[39;00m) \u001b[38;5;241m==\u001b[39m \u001b[38;5;28mbool\u001b[39m:\n",
            "File \u001b[1;32mc:\\Users\\USER\\AppData\\Local\\Programs\\Python\\Python312\\Lib\\site-packages\\pandas\\core\\indexes\\base.py:6200\u001b[0m, in \u001b[0;36mIndex._get_indexer_strict\u001b[1;34m(self, key, axis_name)\u001b[0m\n\u001b[0;32m   6197\u001b[0m \u001b[38;5;28;01melse\u001b[39;00m:\n\u001b[0;32m   6198\u001b[0m     keyarr, indexer, new_indexer \u001b[38;5;241m=\u001b[39m \u001b[38;5;28mself\u001b[39m\u001b[38;5;241m.\u001b[39m_reindex_non_unique(keyarr)\n\u001b[1;32m-> 6200\u001b[0m \u001b[38;5;28;43mself\u001b[39;49m\u001b[38;5;241;43m.\u001b[39;49m\u001b[43m_raise_if_missing\u001b[49m\u001b[43m(\u001b[49m\u001b[43mkeyarr\u001b[49m\u001b[43m,\u001b[49m\u001b[43m \u001b[49m\u001b[43mindexer\u001b[49m\u001b[43m,\u001b[49m\u001b[43m \u001b[49m\u001b[43maxis_name\u001b[49m\u001b[43m)\u001b[49m\n\u001b[0;32m   6202\u001b[0m keyarr \u001b[38;5;241m=\u001b[39m \u001b[38;5;28mself\u001b[39m\u001b[38;5;241m.\u001b[39mtake(indexer)\n\u001b[0;32m   6203\u001b[0m \u001b[38;5;28;01mif\u001b[39;00m \u001b[38;5;28misinstance\u001b[39m(key, Index):\n\u001b[0;32m   6204\u001b[0m     \u001b[38;5;66;03m# GH 42790 - Preserve name from an Index\u001b[39;00m\n",
            "File \u001b[1;32mc:\\Users\\USER\\AppData\\Local\\Programs\\Python\\Python312\\Lib\\site-packages\\pandas\\core\\indexes\\base.py:6249\u001b[0m, in \u001b[0;36mIndex._raise_if_missing\u001b[1;34m(self, key, indexer, axis_name)\u001b[0m\n\u001b[0;32m   6247\u001b[0m \u001b[38;5;28;01mif\u001b[39;00m nmissing:\n\u001b[0;32m   6248\u001b[0m     \u001b[38;5;28;01mif\u001b[39;00m nmissing \u001b[38;5;241m==\u001b[39m \u001b[38;5;28mlen\u001b[39m(indexer):\n\u001b[1;32m-> 6249\u001b[0m         \u001b[38;5;28;01mraise\u001b[39;00m \u001b[38;5;167;01mKeyError\u001b[39;00m(\u001b[38;5;124mf\u001b[39m\u001b[38;5;124m\"\u001b[39m\u001b[38;5;124mNone of [\u001b[39m\u001b[38;5;132;01m{\u001b[39;00mkey\u001b[38;5;132;01m}\u001b[39;00m\u001b[38;5;124m] are in the [\u001b[39m\u001b[38;5;132;01m{\u001b[39;00maxis_name\u001b[38;5;132;01m}\u001b[39;00m\u001b[38;5;124m]\u001b[39m\u001b[38;5;124m\"\u001b[39m)\n\u001b[0;32m   6251\u001b[0m     not_found \u001b[38;5;241m=\u001b[39m \u001b[38;5;28mlist\u001b[39m(ensure_index(key)[missing_mask\u001b[38;5;241m.\u001b[39mnonzero()[\u001b[38;5;241m0\u001b[39m]]\u001b[38;5;241m.\u001b[39munique())\n\u001b[0;32m   6252\u001b[0m     \u001b[38;5;28;01mraise\u001b[39;00m \u001b[38;5;167;01mKeyError\u001b[39;00m(\u001b[38;5;124mf\u001b[39m\u001b[38;5;124m\"\u001b[39m\u001b[38;5;132;01m{\u001b[39;00mnot_found\u001b[38;5;132;01m}\u001b[39;00m\u001b[38;5;124m not in index\u001b[39m\u001b[38;5;124m\"\u001b[39m)\n",
            "\u001b[1;31mKeyError\u001b[0m: \"None of [Index(['ciudad', 'estado_amueblado', 'contacto', 'inquilino_preferido'], dtype='object')] are in the [columns]\""
          ]
        }
      ],
      "source": [
        "predictor_columns_cat = df_filter_dummy[columns_cat]"
      ]
    }
  ],
  "metadata": {
    "colab": {
      "include_colab_link": true,
      "provenance": []
    },
    "kernelspec": {
      "display_name": "Python 3",
      "name": "python3"
    },
    "language_info": {
      "codemirror_mode": {
        "name": "ipython",
        "version": 3
      },
      "file_extension": ".py",
      "mimetype": "text/x-python",
      "name": "python",
      "nbconvert_exporter": "python",
      "pygments_lexer": "ipython3",
      "version": "3.12.6"
    }
  },
  "nbformat": 4,
  "nbformat_minor": 0
}
